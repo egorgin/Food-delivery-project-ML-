{
 "cells": [
  {
   "cell_type": "code",
   "execution_count": 1,
   "id": "582b2f8c",
   "metadata": {},
   "outputs": [],
   "source": [
    "import numpy as np\n",
    "import pandas as pd\n",
    "import matplotlib.pyplot as plt\n",
    "import seaborn as sns\n",
    "%matplotlib inline "
   ]
  },
  {
   "cell_type": "code",
   "execution_count": 2,
   "id": "4b004e5e",
   "metadata": {},
   "outputs": [
    {
     "data": {
      "text/html": [
       "<div>\n",
       "<style scoped>\n",
       "    .dataframe tbody tr th:only-of-type {\n",
       "        vertical-align: middle;\n",
       "    }\n",
       "\n",
       "    .dataframe tbody tr th {\n",
       "        vertical-align: top;\n",
       "    }\n",
       "\n",
       "    .dataframe thead th {\n",
       "        text-align: right;\n",
       "    }\n",
       "</style>\n",
       "<table border=\"1\" class=\"dataframe\">\n",
       "  <thead>\n",
       "    <tr style=\"text-align: right;\">\n",
       "      <th></th>\n",
       "      <th>0</th>\n",
       "      <th>1</th>\n",
       "      <th>2</th>\n",
       "      <th>3</th>\n",
       "      <th>4</th>\n",
       "    </tr>\n",
       "  </thead>\n",
       "  <tbody>\n",
       "    <tr>\n",
       "      <th>ID</th>\n",
       "      <td>0x4607</td>\n",
       "      <td>0xb379</td>\n",
       "      <td>0x5d6d</td>\n",
       "      <td>0x7a6a</td>\n",
       "      <td>0x70a2</td>\n",
       "    </tr>\n",
       "    <tr>\n",
       "      <th>Delivery_person_ID</th>\n",
       "      <td>INDORES13DEL02</td>\n",
       "      <td>BANGRES18DEL02</td>\n",
       "      <td>BANGRES19DEL01</td>\n",
       "      <td>COIMBRES13DEL02</td>\n",
       "      <td>CHENRES12DEL01</td>\n",
       "    </tr>\n",
       "    <tr>\n",
       "      <th>Delivery_person_Age</th>\n",
       "      <td>37.0</td>\n",
       "      <td>34.0</td>\n",
       "      <td>23.0</td>\n",
       "      <td>38.0</td>\n",
       "      <td>32.0</td>\n",
       "    </tr>\n",
       "    <tr>\n",
       "      <th>Delivery_person_Ratings</th>\n",
       "      <td>4.9</td>\n",
       "      <td>4.5</td>\n",
       "      <td>4.4</td>\n",
       "      <td>4.7</td>\n",
       "      <td>4.6</td>\n",
       "    </tr>\n",
       "    <tr>\n",
       "      <th>Restaurant_latitude</th>\n",
       "      <td>22.745049</td>\n",
       "      <td>12.913041</td>\n",
       "      <td>12.914264</td>\n",
       "      <td>11.003669</td>\n",
       "      <td>12.972793</td>\n",
       "    </tr>\n",
       "    <tr>\n",
       "      <th>Restaurant_longitude</th>\n",
       "      <td>75.892471</td>\n",
       "      <td>77.683237</td>\n",
       "      <td>77.6784</td>\n",
       "      <td>76.976494</td>\n",
       "      <td>80.249982</td>\n",
       "    </tr>\n",
       "    <tr>\n",
       "      <th>Delivery_location_latitude</th>\n",
       "      <td>22.765049</td>\n",
       "      <td>13.043041</td>\n",
       "      <td>12.924264</td>\n",
       "      <td>11.053669</td>\n",
       "      <td>13.012793</td>\n",
       "    </tr>\n",
       "    <tr>\n",
       "      <th>Delivery_location_longitude</th>\n",
       "      <td>75.912471</td>\n",
       "      <td>77.813237</td>\n",
       "      <td>77.6884</td>\n",
       "      <td>77.026494</td>\n",
       "      <td>80.289982</td>\n",
       "    </tr>\n",
       "    <tr>\n",
       "      <th>Order_Date</th>\n",
       "      <td>2022-03-19 00:00:00</td>\n",
       "      <td>2022-03-25 00:00:00</td>\n",
       "      <td>2022-03-19 00:00:00</td>\n",
       "      <td>2022-05-04 00:00:00</td>\n",
       "      <td>2022-03-26 00:00:00</td>\n",
       "    </tr>\n",
       "    <tr>\n",
       "      <th>Time_Orderd</th>\n",
       "      <td>11:30:00</td>\n",
       "      <td>19:45:00</td>\n",
       "      <td>8:30:00</td>\n",
       "      <td>18:00:00</td>\n",
       "      <td>13:30:00</td>\n",
       "    </tr>\n",
       "    <tr>\n",
       "      <th>Time_Order_picked</th>\n",
       "      <td>11:45:00</td>\n",
       "      <td>19:50:00</td>\n",
       "      <td>8:45:00</td>\n",
       "      <td>18:10:00</td>\n",
       "      <td>13:45:00</td>\n",
       "    </tr>\n",
       "    <tr>\n",
       "      <th>Weatherconditions</th>\n",
       "      <td>conditions Sunny</td>\n",
       "      <td>conditions Stormy</td>\n",
       "      <td>conditions Sandstorms</td>\n",
       "      <td>conditions Sunny</td>\n",
       "      <td>conditions Cloudy</td>\n",
       "    </tr>\n",
       "    <tr>\n",
       "      <th>Road_traffic_density</th>\n",
       "      <td>High</td>\n",
       "      <td>Jam</td>\n",
       "      <td>Low</td>\n",
       "      <td>Medium</td>\n",
       "      <td>High</td>\n",
       "    </tr>\n",
       "    <tr>\n",
       "      <th>Vehicle_condition</th>\n",
       "      <td>2</td>\n",
       "      <td>2</td>\n",
       "      <td>0</td>\n",
       "      <td>0</td>\n",
       "      <td>1</td>\n",
       "    </tr>\n",
       "    <tr>\n",
       "      <th>Type_of_order</th>\n",
       "      <td>Snack</td>\n",
       "      <td>Snack</td>\n",
       "      <td>Drinks</td>\n",
       "      <td>Buffet</td>\n",
       "      <td>Snack</td>\n",
       "    </tr>\n",
       "    <tr>\n",
       "      <th>Type_of_vehicle</th>\n",
       "      <td>motorcycle</td>\n",
       "      <td>scooter</td>\n",
       "      <td>motorcycle</td>\n",
       "      <td>motorcycle</td>\n",
       "      <td>scooter</td>\n",
       "    </tr>\n",
       "    <tr>\n",
       "      <th>multiple_deliveries</th>\n",
       "      <td>0.0</td>\n",
       "      <td>1.0</td>\n",
       "      <td>1.0</td>\n",
       "      <td>1.0</td>\n",
       "      <td>1.0</td>\n",
       "    </tr>\n",
       "    <tr>\n",
       "      <th>Festival</th>\n",
       "      <td>No</td>\n",
       "      <td>No</td>\n",
       "      <td>No</td>\n",
       "      <td>No</td>\n",
       "      <td>No</td>\n",
       "    </tr>\n",
       "    <tr>\n",
       "      <th>City</th>\n",
       "      <td>Urban</td>\n",
       "      <td>Metropolitian</td>\n",
       "      <td>Urban</td>\n",
       "      <td>Metropolitian</td>\n",
       "      <td>Metropolitian</td>\n",
       "    </tr>\n",
       "    <tr>\n",
       "      <th>Time_taken(min)</th>\n",
       "      <td>(min) 24</td>\n",
       "      <td>(min) 33</td>\n",
       "      <td>(min) 26</td>\n",
       "      <td>(min) 21</td>\n",
       "      <td>(min) 30</td>\n",
       "    </tr>\n",
       "  </tbody>\n",
       "</table>\n",
       "</div>"
      ],
      "text/plain": [
       "                                               0                    1  \\\n",
       "ID                                       0x4607               0xb379    \n",
       "Delivery_person_ID               INDORES13DEL02       BANGRES18DEL02    \n",
       "Delivery_person_Age                         37.0                 34.0   \n",
       "Delivery_person_Ratings                      4.9                  4.5   \n",
       "Restaurant_latitude                    22.745049            12.913041   \n",
       "Restaurant_longitude                   75.892471            77.683237   \n",
       "Delivery_location_latitude             22.765049            13.043041   \n",
       "Delivery_location_longitude            75.912471            77.813237   \n",
       "Order_Date                   2022-03-19 00:00:00  2022-03-25 00:00:00   \n",
       "Time_Orderd                             11:30:00             19:45:00   \n",
       "Time_Order_picked                       11:45:00             19:50:00   \n",
       "Weatherconditions               conditions Sunny    conditions Stormy   \n",
       "Road_traffic_density                       High                  Jam    \n",
       "Vehicle_condition                              2                    2   \n",
       "Type_of_order                             Snack                Snack    \n",
       "Type_of_vehicle                      motorcycle              scooter    \n",
       "multiple_deliveries                          0.0                  1.0   \n",
       "Festival                                     No                   No    \n",
       "City                                      Urban        Metropolitian    \n",
       "Time_taken(min)                         (min) 24             (min) 33   \n",
       "\n",
       "                                                 2                    3  \\\n",
       "ID                                         0x5d6d               0x7a6a    \n",
       "Delivery_person_ID                 BANGRES19DEL01      COIMBRES13DEL02    \n",
       "Delivery_person_Age                           23.0                 38.0   \n",
       "Delivery_person_Ratings                        4.4                  4.7   \n",
       "Restaurant_latitude                      12.914264            11.003669   \n",
       "Restaurant_longitude                       77.6784            76.976494   \n",
       "Delivery_location_latitude               12.924264            11.053669   \n",
       "Delivery_location_longitude                77.6884            77.026494   \n",
       "Order_Date                     2022-03-19 00:00:00  2022-05-04 00:00:00   \n",
       "Time_Orderd                                8:30:00             18:00:00   \n",
       "Time_Order_picked                          8:45:00             18:10:00   \n",
       "Weatherconditions            conditions Sandstorms     conditions Sunny   \n",
       "Road_traffic_density                          Low               Medium    \n",
       "Vehicle_condition                                0                    0   \n",
       "Type_of_order                              Drinks               Buffet    \n",
       "Type_of_vehicle                        motorcycle           motorcycle    \n",
       "multiple_deliveries                            1.0                  1.0   \n",
       "Festival                                       No                   No    \n",
       "City                                        Urban        Metropolitian    \n",
       "Time_taken(min)                           (min) 26             (min) 21   \n",
       "\n",
       "                                               4  \n",
       "ID                                       0x70a2   \n",
       "Delivery_person_ID               CHENRES12DEL01   \n",
       "Delivery_person_Age                         32.0  \n",
       "Delivery_person_Ratings                      4.6  \n",
       "Restaurant_latitude                    12.972793  \n",
       "Restaurant_longitude                   80.249982  \n",
       "Delivery_location_latitude             13.012793  \n",
       "Delivery_location_longitude            80.289982  \n",
       "Order_Date                   2022-03-26 00:00:00  \n",
       "Time_Orderd                             13:30:00  \n",
       "Time_Order_picked                       13:45:00  \n",
       "Weatherconditions              conditions Cloudy  \n",
       "Road_traffic_density                       High   \n",
       "Vehicle_condition                              1  \n",
       "Type_of_order                             Snack   \n",
       "Type_of_vehicle                         scooter   \n",
       "multiple_deliveries                          1.0  \n",
       "Festival                                     No   \n",
       "City                              Metropolitian   \n",
       "Time_taken(min)                         (min) 30  "
      ]
     },
     "execution_count": 2,
     "metadata": {},
     "output_type": "execute_result"
    }
   ],
   "source": [
    "df=pd.read_csv(r'C:\\Users\\ella.gorgin\\Dropbox\\Data_Analytics\\Data_sets\\Food_delivery\\train.csv', parse_dates=[\"Order_Date\"], na_values=['NaN ','NaN'])\n",
    "df.head().T"
   ]
  },
  {
   "cell_type": "code",
   "execution_count": 3,
   "id": "680a4705",
   "metadata": {},
   "outputs": [
    {
     "data": {
      "text/plain": [
       "(45593, 20)"
      ]
     },
     "execution_count": 3,
     "metadata": {},
     "output_type": "execute_result"
    }
   ],
   "source": [
    "df.shape"
   ]
  },
  {
   "cell_type": "code",
   "execution_count": 4,
   "id": "96ae608d",
   "metadata": {},
   "outputs": [
    {
     "data": {
      "text/plain": [
       "nan"
      ]
     },
     "execution_count": 4,
     "metadata": {},
     "output_type": "execute_result"
    }
   ],
   "source": [
    "df['multiple_deliveries'].iloc[17]"
   ]
  },
  {
   "cell_type": "code",
   "execution_count": 5,
   "id": "b325577a",
   "metadata": {},
   "outputs": [],
   "source": [
    "df['day'] = df['Order_Date'].map(lambda x: x.day)\n",
    "df['month'] = df['Order_Date'].map(lambda x: x.month)\n",
    "df['year'] = df['Order_Date'].map(lambda x: x.year)"
   ]
  },
  {
   "cell_type": "code",
   "execution_count": 6,
   "id": "9cc59c07",
   "metadata": {},
   "outputs": [
    {
     "data": {
      "text/html": [
       "<div>\n",
       "<style scoped>\n",
       "    .dataframe tbody tr th:only-of-type {\n",
       "        vertical-align: middle;\n",
       "    }\n",
       "\n",
       "    .dataframe tbody tr th {\n",
       "        vertical-align: top;\n",
       "    }\n",
       "\n",
       "    .dataframe thead th {\n",
       "        text-align: right;\n",
       "    }\n",
       "</style>\n",
       "<table border=\"1\" class=\"dataframe\">\n",
       "  <thead>\n",
       "    <tr style=\"text-align: right;\">\n",
       "      <th></th>\n",
       "      <th>ID</th>\n",
       "      <th>Delivery_person_ID</th>\n",
       "      <th>Delivery_person_Age</th>\n",
       "      <th>Delivery_person_Ratings</th>\n",
       "      <th>Restaurant_latitude</th>\n",
       "      <th>Restaurant_longitude</th>\n",
       "      <th>Delivery_location_latitude</th>\n",
       "      <th>Delivery_location_longitude</th>\n",
       "      <th>Order_Date</th>\n",
       "      <th>Time_Ordered</th>\n",
       "      <th>...</th>\n",
       "      <th>Vehicle_condition</th>\n",
       "      <th>Type_of_order</th>\n",
       "      <th>Type_of_vehicle</th>\n",
       "      <th>multiple_deliveries</th>\n",
       "      <th>Festival</th>\n",
       "      <th>City</th>\n",
       "      <th>Time_taken(min)</th>\n",
       "      <th>day</th>\n",
       "      <th>month</th>\n",
       "      <th>year</th>\n",
       "    </tr>\n",
       "  </thead>\n",
       "  <tbody>\n",
       "    <tr>\n",
       "      <th>0</th>\n",
       "      <td>0x4607</td>\n",
       "      <td>INDORES13DEL02</td>\n",
       "      <td>37.0</td>\n",
       "      <td>4.9</td>\n",
       "      <td>22.745049</td>\n",
       "      <td>75.892471</td>\n",
       "      <td>22.765049</td>\n",
       "      <td>75.912471</td>\n",
       "      <td>2022-03-19</td>\n",
       "      <td>11:30:00</td>\n",
       "      <td>...</td>\n",
       "      <td>2</td>\n",
       "      <td>Snack</td>\n",
       "      <td>motorcycle</td>\n",
       "      <td>0.0</td>\n",
       "      <td>No</td>\n",
       "      <td>Urban</td>\n",
       "      <td>(min) 24</td>\n",
       "      <td>19</td>\n",
       "      <td>3</td>\n",
       "      <td>2022</td>\n",
       "    </tr>\n",
       "    <tr>\n",
       "      <th>1</th>\n",
       "      <td>0xb379</td>\n",
       "      <td>BANGRES18DEL02</td>\n",
       "      <td>34.0</td>\n",
       "      <td>4.5</td>\n",
       "      <td>12.913041</td>\n",
       "      <td>77.683237</td>\n",
       "      <td>13.043041</td>\n",
       "      <td>77.813237</td>\n",
       "      <td>2022-03-25</td>\n",
       "      <td>19:45:00</td>\n",
       "      <td>...</td>\n",
       "      <td>2</td>\n",
       "      <td>Snack</td>\n",
       "      <td>scooter</td>\n",
       "      <td>1.0</td>\n",
       "      <td>No</td>\n",
       "      <td>Metropolitian</td>\n",
       "      <td>(min) 33</td>\n",
       "      <td>25</td>\n",
       "      <td>3</td>\n",
       "      <td>2022</td>\n",
       "    </tr>\n",
       "    <tr>\n",
       "      <th>2</th>\n",
       "      <td>0x5d6d</td>\n",
       "      <td>BANGRES19DEL01</td>\n",
       "      <td>23.0</td>\n",
       "      <td>4.4</td>\n",
       "      <td>12.914264</td>\n",
       "      <td>77.678400</td>\n",
       "      <td>12.924264</td>\n",
       "      <td>77.688400</td>\n",
       "      <td>2022-03-19</td>\n",
       "      <td>8:30:00</td>\n",
       "      <td>...</td>\n",
       "      <td>0</td>\n",
       "      <td>Drinks</td>\n",
       "      <td>motorcycle</td>\n",
       "      <td>1.0</td>\n",
       "      <td>No</td>\n",
       "      <td>Urban</td>\n",
       "      <td>(min) 26</td>\n",
       "      <td>19</td>\n",
       "      <td>3</td>\n",
       "      <td>2022</td>\n",
       "    </tr>\n",
       "    <tr>\n",
       "      <th>3</th>\n",
       "      <td>0x7a6a</td>\n",
       "      <td>COIMBRES13DEL02</td>\n",
       "      <td>38.0</td>\n",
       "      <td>4.7</td>\n",
       "      <td>11.003669</td>\n",
       "      <td>76.976494</td>\n",
       "      <td>11.053669</td>\n",
       "      <td>77.026494</td>\n",
       "      <td>2022-05-04</td>\n",
       "      <td>18:00:00</td>\n",
       "      <td>...</td>\n",
       "      <td>0</td>\n",
       "      <td>Buffet</td>\n",
       "      <td>motorcycle</td>\n",
       "      <td>1.0</td>\n",
       "      <td>No</td>\n",
       "      <td>Metropolitian</td>\n",
       "      <td>(min) 21</td>\n",
       "      <td>4</td>\n",
       "      <td>5</td>\n",
       "      <td>2022</td>\n",
       "    </tr>\n",
       "    <tr>\n",
       "      <th>4</th>\n",
       "      <td>0x70a2</td>\n",
       "      <td>CHENRES12DEL01</td>\n",
       "      <td>32.0</td>\n",
       "      <td>4.6</td>\n",
       "      <td>12.972793</td>\n",
       "      <td>80.249982</td>\n",
       "      <td>13.012793</td>\n",
       "      <td>80.289982</td>\n",
       "      <td>2022-03-26</td>\n",
       "      <td>13:30:00</td>\n",
       "      <td>...</td>\n",
       "      <td>1</td>\n",
       "      <td>Snack</td>\n",
       "      <td>scooter</td>\n",
       "      <td>1.0</td>\n",
       "      <td>No</td>\n",
       "      <td>Metropolitian</td>\n",
       "      <td>(min) 30</td>\n",
       "      <td>26</td>\n",
       "      <td>3</td>\n",
       "      <td>2022</td>\n",
       "    </tr>\n",
       "  </tbody>\n",
       "</table>\n",
       "<p>5 rows × 23 columns</p>\n",
       "</div>"
      ],
      "text/plain": [
       "        ID Delivery_person_ID  Delivery_person_Age  Delivery_person_Ratings  \\\n",
       "0  0x4607     INDORES13DEL02                  37.0                      4.9   \n",
       "1  0xb379     BANGRES18DEL02                  34.0                      4.5   \n",
       "2  0x5d6d     BANGRES19DEL01                  23.0                      4.4   \n",
       "3  0x7a6a    COIMBRES13DEL02                  38.0                      4.7   \n",
       "4  0x70a2     CHENRES12DEL01                  32.0                      4.6   \n",
       "\n",
       "   Restaurant_latitude  Restaurant_longitude  Delivery_location_latitude  \\\n",
       "0            22.745049             75.892471                   22.765049   \n",
       "1            12.913041             77.683237                   13.043041   \n",
       "2            12.914264             77.678400                   12.924264   \n",
       "3            11.003669             76.976494                   11.053669   \n",
       "4            12.972793             80.249982                   13.012793   \n",
       "\n",
       "   Delivery_location_longitude Order_Date Time_Ordered  ... Vehicle_condition  \\\n",
       "0                    75.912471 2022-03-19     11:30:00  ...                 2   \n",
       "1                    77.813237 2022-03-25     19:45:00  ...                 2   \n",
       "2                    77.688400 2022-03-19      8:30:00  ...                 0   \n",
       "3                    77.026494 2022-05-04     18:00:00  ...                 0   \n",
       "4                    80.289982 2022-03-26     13:30:00  ...                 1   \n",
       "\n",
       "  Type_of_order Type_of_vehicle  multiple_deliveries Festival            City  \\\n",
       "0        Snack      motorcycle                   0.0      No           Urban    \n",
       "1        Snack         scooter                   1.0      No   Metropolitian    \n",
       "2       Drinks      motorcycle                   1.0      No           Urban    \n",
       "3       Buffet      motorcycle                   1.0      No   Metropolitian    \n",
       "4        Snack         scooter                   1.0      No   Metropolitian    \n",
       "\n",
       "   Time_taken(min) day month  year  \n",
       "0         (min) 24  19     3  2022  \n",
       "1         (min) 33  25     3  2022  \n",
       "2         (min) 26  19     3  2022  \n",
       "3         (min) 21   4     5  2022  \n",
       "4         (min) 30  26     3  2022  \n",
       "\n",
       "[5 rows x 23 columns]"
      ]
     },
     "execution_count": 6,
     "metadata": {},
     "output_type": "execute_result"
    }
   ],
   "source": [
    "df.rename(columns = {'Time_Orderd':'Time_Ordered'}, inplace=True)\n",
    "df.head()"
   ]
  },
  {
   "cell_type": "code",
   "execution_count": 7,
   "id": "7131ada5",
   "metadata": {},
   "outputs": [
    {
     "data": {
      "text/plain": [
       "(45593, 23)"
      ]
     },
     "execution_count": 7,
     "metadata": {},
     "output_type": "execute_result"
    }
   ],
   "source": [
    "df.shape"
   ]
  },
  {
   "cell_type": "code",
   "execution_count": 8,
   "id": "ff04bb1b",
   "metadata": {},
   "outputs": [
    {
     "data": {
      "text/plain": [
       "(45593, 23)"
      ]
     },
     "execution_count": 8,
     "metadata": {},
     "output_type": "execute_result"
    }
   ],
   "source": [
    "df=df.drop_duplicates(keep='first')\n",
    "df.shape"
   ]
  },
  {
   "cell_type": "code",
   "execution_count": 9,
   "id": "e4a9b423",
   "metadata": {},
   "outputs": [],
   "source": [
    "#df= df.drop(['ID','Delivery_person_ID','Order_Date'], axis='columns')\n",
    "#df.head()"
   ]
  },
  {
   "cell_type": "code",
   "execution_count": 10,
   "id": "0562c461",
   "metadata": {},
   "outputs": [
    {
     "data": {
      "text/plain": [
       "ID                                0\n",
       "Delivery_person_ID                0\n",
       "Delivery_person_Age            1854\n",
       "Delivery_person_Ratings        1908\n",
       "Restaurant_latitude               0\n",
       "Restaurant_longitude              0\n",
       "Delivery_location_latitude        0\n",
       "Delivery_location_longitude       0\n",
       "Order_Date                        0\n",
       "Time_Ordered                   1731\n",
       "Time_Order_picked                 0\n",
       "Weatherconditions                 0\n",
       "Road_traffic_density            601\n",
       "Vehicle_condition                 0\n",
       "Type_of_order                     0\n",
       "Type_of_vehicle                   0\n",
       "multiple_deliveries             993\n",
       "Festival                        228\n",
       "City                           1200\n",
       "Time_taken(min)                   0\n",
       "day                               0\n",
       "month                             0\n",
       "year                              0\n",
       "dtype: int64"
      ]
     },
     "execution_count": 10,
     "metadata": {},
     "output_type": "execute_result"
    }
   ],
   "source": [
    "df.isnull().sum()"
   ]
  },
  {
   "cell_type": "code",
   "execution_count": 11,
   "id": "b3c5d12f",
   "metadata": {},
   "outputs": [
    {
     "name": "stdout",
     "output_type": "stream",
     "text": [
      "<class 'pandas.core.frame.DataFrame'>\n",
      "Int64Index: 45593 entries, 0 to 45592\n",
      "Data columns (total 23 columns):\n",
      " #   Column                       Non-Null Count  Dtype         \n",
      "---  ------                       --------------  -----         \n",
      " 0   ID                           45593 non-null  object        \n",
      " 1   Delivery_person_ID           45593 non-null  object        \n",
      " 2   Delivery_person_Age          43739 non-null  float64       \n",
      " 3   Delivery_person_Ratings      43685 non-null  float64       \n",
      " 4   Restaurant_latitude          45593 non-null  float64       \n",
      " 5   Restaurant_longitude         45593 non-null  float64       \n",
      " 6   Delivery_location_latitude   45593 non-null  float64       \n",
      " 7   Delivery_location_longitude  45593 non-null  float64       \n",
      " 8   Order_Date                   45593 non-null  datetime64[ns]\n",
      " 9   Time_Ordered                 43862 non-null  object        \n",
      " 10  Time_Order_picked            45593 non-null  object        \n",
      " 11  Weatherconditions            45593 non-null  object        \n",
      " 12  Road_traffic_density         44992 non-null  object        \n",
      " 13  Vehicle_condition            45593 non-null  int64         \n",
      " 14  Type_of_order                45593 non-null  object        \n",
      " 15  Type_of_vehicle              45593 non-null  object        \n",
      " 16  multiple_deliveries          44600 non-null  float64       \n",
      " 17  Festival                     45365 non-null  object        \n",
      " 18  City                         44393 non-null  object        \n",
      " 19  Time_taken(min)              45593 non-null  object        \n",
      " 20  day                          45593 non-null  int64         \n",
      " 21  month                        45593 non-null  int64         \n",
      " 22  year                         45593 non-null  int64         \n",
      "dtypes: datetime64[ns](1), float64(7), int64(4), object(11)\n",
      "memory usage: 8.3+ MB\n"
     ]
    }
   ],
   "source": [
    "df.info()"
   ]
  },
  {
   "cell_type": "code",
   "execution_count": 12,
   "id": "aaa10317",
   "metadata": {},
   "outputs": [
    {
     "data": {
      "text/html": [
       "<div>\n",
       "<style scoped>\n",
       "    .dataframe tbody tr th:only-of-type {\n",
       "        vertical-align: middle;\n",
       "    }\n",
       "\n",
       "    .dataframe tbody tr th {\n",
       "        vertical-align: top;\n",
       "    }\n",
       "\n",
       "    .dataframe thead th {\n",
       "        text-align: right;\n",
       "    }\n",
       "</style>\n",
       "<table border=\"1\" class=\"dataframe\">\n",
       "  <thead>\n",
       "    <tr style=\"text-align: right;\">\n",
       "      <th></th>\n",
       "      <th>count</th>\n",
       "      <th>mean</th>\n",
       "      <th>std</th>\n",
       "      <th>min</th>\n",
       "      <th>25%</th>\n",
       "      <th>50%</th>\n",
       "      <th>75%</th>\n",
       "      <th>max</th>\n",
       "    </tr>\n",
       "  </thead>\n",
       "  <tbody>\n",
       "    <tr>\n",
       "      <th>Delivery_person_Age</th>\n",
       "      <td>43739.0</td>\n",
       "      <td>29.567137</td>\n",
       "      <td>5.815155</td>\n",
       "      <td>15.000000</td>\n",
       "      <td>25.000000</td>\n",
       "      <td>30.000000</td>\n",
       "      <td>35.000000</td>\n",
       "      <td>50.000000</td>\n",
       "    </tr>\n",
       "    <tr>\n",
       "      <th>Delivery_person_Ratings</th>\n",
       "      <td>43685.0</td>\n",
       "      <td>4.633780</td>\n",
       "      <td>0.334716</td>\n",
       "      <td>1.000000</td>\n",
       "      <td>4.500000</td>\n",
       "      <td>4.700000</td>\n",
       "      <td>4.900000</td>\n",
       "      <td>6.000000</td>\n",
       "    </tr>\n",
       "    <tr>\n",
       "      <th>Restaurant_latitude</th>\n",
       "      <td>45593.0</td>\n",
       "      <td>17.017729</td>\n",
       "      <td>8.185109</td>\n",
       "      <td>-30.905562</td>\n",
       "      <td>12.933284</td>\n",
       "      <td>18.546947</td>\n",
       "      <td>22.728163</td>\n",
       "      <td>30.914057</td>\n",
       "    </tr>\n",
       "    <tr>\n",
       "      <th>Restaurant_longitude</th>\n",
       "      <td>45593.0</td>\n",
       "      <td>70.231332</td>\n",
       "      <td>22.883647</td>\n",
       "      <td>-88.366217</td>\n",
       "      <td>73.170000</td>\n",
       "      <td>75.898497</td>\n",
       "      <td>78.044095</td>\n",
       "      <td>88.433452</td>\n",
       "    </tr>\n",
       "    <tr>\n",
       "      <th>Delivery_location_latitude</th>\n",
       "      <td>45593.0</td>\n",
       "      <td>17.465186</td>\n",
       "      <td>7.335122</td>\n",
       "      <td>0.010000</td>\n",
       "      <td>12.988453</td>\n",
       "      <td>18.633934</td>\n",
       "      <td>22.785049</td>\n",
       "      <td>31.054057</td>\n",
       "    </tr>\n",
       "    <tr>\n",
       "      <th>Delivery_location_longitude</th>\n",
       "      <td>45593.0</td>\n",
       "      <td>70.845702</td>\n",
       "      <td>21.118812</td>\n",
       "      <td>0.010000</td>\n",
       "      <td>73.280000</td>\n",
       "      <td>76.002574</td>\n",
       "      <td>78.107044</td>\n",
       "      <td>88.563452</td>\n",
       "    </tr>\n",
       "    <tr>\n",
       "      <th>Vehicle_condition</th>\n",
       "      <td>45593.0</td>\n",
       "      <td>1.023359</td>\n",
       "      <td>0.839065</td>\n",
       "      <td>0.000000</td>\n",
       "      <td>0.000000</td>\n",
       "      <td>1.000000</td>\n",
       "      <td>2.000000</td>\n",
       "      <td>3.000000</td>\n",
       "    </tr>\n",
       "    <tr>\n",
       "      <th>multiple_deliveries</th>\n",
       "      <td>44600.0</td>\n",
       "      <td>0.744664</td>\n",
       "      <td>0.572473</td>\n",
       "      <td>0.000000</td>\n",
       "      <td>0.000000</td>\n",
       "      <td>1.000000</td>\n",
       "      <td>1.000000</td>\n",
       "      <td>3.000000</td>\n",
       "    </tr>\n",
       "    <tr>\n",
       "      <th>day</th>\n",
       "      <td>45593.0</td>\n",
       "      <td>12.537692</td>\n",
       "      <td>9.587465</td>\n",
       "      <td>2.000000</td>\n",
       "      <td>3.000000</td>\n",
       "      <td>13.000000</td>\n",
       "      <td>20.000000</td>\n",
       "      <td>31.000000</td>\n",
       "    </tr>\n",
       "    <tr>\n",
       "      <th>month</th>\n",
       "      <td>45593.0</td>\n",
       "      <td>4.254337</td>\n",
       "      <td>2.925565</td>\n",
       "      <td>1.000000</td>\n",
       "      <td>3.000000</td>\n",
       "      <td>3.000000</td>\n",
       "      <td>5.000000</td>\n",
       "      <td>12.000000</td>\n",
       "    </tr>\n",
       "    <tr>\n",
       "      <th>year</th>\n",
       "      <td>45593.0</td>\n",
       "      <td>2022.000000</td>\n",
       "      <td>0.000000</td>\n",
       "      <td>2022.000000</td>\n",
       "      <td>2022.000000</td>\n",
       "      <td>2022.000000</td>\n",
       "      <td>2022.000000</td>\n",
       "      <td>2022.000000</td>\n",
       "    </tr>\n",
       "  </tbody>\n",
       "</table>\n",
       "</div>"
      ],
      "text/plain": [
       "                               count         mean        std          min  \\\n",
       "Delivery_person_Age          43739.0    29.567137   5.815155    15.000000   \n",
       "Delivery_person_Ratings      43685.0     4.633780   0.334716     1.000000   \n",
       "Restaurant_latitude          45593.0    17.017729   8.185109   -30.905562   \n",
       "Restaurant_longitude         45593.0    70.231332  22.883647   -88.366217   \n",
       "Delivery_location_latitude   45593.0    17.465186   7.335122     0.010000   \n",
       "Delivery_location_longitude  45593.0    70.845702  21.118812     0.010000   \n",
       "Vehicle_condition            45593.0     1.023359   0.839065     0.000000   \n",
       "multiple_deliveries          44600.0     0.744664   0.572473     0.000000   \n",
       "day                          45593.0    12.537692   9.587465     2.000000   \n",
       "month                        45593.0     4.254337   2.925565     1.000000   \n",
       "year                         45593.0  2022.000000   0.000000  2022.000000   \n",
       "\n",
       "                                     25%          50%          75%  \\\n",
       "Delivery_person_Age            25.000000    30.000000    35.000000   \n",
       "Delivery_person_Ratings         4.500000     4.700000     4.900000   \n",
       "Restaurant_latitude            12.933284    18.546947    22.728163   \n",
       "Restaurant_longitude           73.170000    75.898497    78.044095   \n",
       "Delivery_location_latitude     12.988453    18.633934    22.785049   \n",
       "Delivery_location_longitude    73.280000    76.002574    78.107044   \n",
       "Vehicle_condition               0.000000     1.000000     2.000000   \n",
       "multiple_deliveries             0.000000     1.000000     1.000000   \n",
       "day                             3.000000    13.000000    20.000000   \n",
       "month                           3.000000     3.000000     5.000000   \n",
       "year                         2022.000000  2022.000000  2022.000000   \n",
       "\n",
       "                                     max  \n",
       "Delivery_person_Age            50.000000  \n",
       "Delivery_person_Ratings         6.000000  \n",
       "Restaurant_latitude            30.914057  \n",
       "Restaurant_longitude           88.433452  \n",
       "Delivery_location_latitude     31.054057  \n",
       "Delivery_location_longitude    88.563452  \n",
       "Vehicle_condition               3.000000  \n",
       "multiple_deliveries             3.000000  \n",
       "day                            31.000000  \n",
       "month                          12.000000  \n",
       "year                         2022.000000  "
      ]
     },
     "execution_count": 12,
     "metadata": {},
     "output_type": "execute_result"
    }
   ],
   "source": [
    "df.describe().T"
   ]
  },
  {
   "cell_type": "markdown",
   "id": "84e421d7",
   "metadata": {},
   "source": [
    "# Time taken(min)"
   ]
  },
  {
   "cell_type": "code",
   "execution_count": 13,
   "id": "bcd4a4c5",
   "metadata": {},
   "outputs": [
    {
     "data": {
      "text/plain": [
       "0    24\n",
       "1    33\n",
       "2    26\n",
       "3    21\n",
       "4    30\n",
       "Name: Time_taken(min), dtype: int64"
      ]
     },
     "execution_count": 13,
     "metadata": {},
     "output_type": "execute_result"
    }
   ],
   "source": [
    "df['Time_taken(min)']=df['Time_taken(min)'].apply(lambda x: int(x.split(' ')[1]))\n",
    "#df['Time_take(min)']= df['Time_taken(min)'].astype('int')\n",
    "df['Time_taken(min)'].head()"
   ]
  },
  {
   "cell_type": "code",
   "execution_count": 14,
   "id": "bca2047f",
   "metadata": {},
   "outputs": [
    {
     "data": {
      "text/plain": [
       "10"
      ]
     },
     "execution_count": 14,
     "metadata": {},
     "output_type": "execute_result"
    }
   ],
   "source": [
    "df['Time_taken(min)'].min()"
   ]
  },
  {
   "cell_type": "code",
   "execution_count": 15,
   "id": "5a0e7dd1",
   "metadata": {},
   "outputs": [
    {
     "data": {
      "text/plain": [
       "54"
      ]
     },
     "execution_count": 15,
     "metadata": {},
     "output_type": "execute_result"
    }
   ],
   "source": [
    "df['Time_taken(min)'].max()"
   ]
  },
  {
   "cell_type": "code",
   "execution_count": 16,
   "id": "1a6c37c9",
   "metadata": {},
   "outputs": [
    {
     "data": {
      "text/plain": [
       "<AxesSubplot:xlabel='Time_taken(min)', ylabel='Count'>"
      ]
     },
     "execution_count": 16,
     "metadata": {},
     "output_type": "execute_result"
    },
    {
     "data": {
      "image/png": "[encoded data removed]",
      "text/plain": [
       "<Figure size 432x288 with 1 Axes>"
      ]
     },
     "metadata": {
      "needs_background": "light"
     },
     "output_type": "display_data"
    }
   ],
   "source": [
    "sns.histplot(df['Time_taken(min)'])"
   ]
  },
  {
   "cell_type": "code",
   "execution_count": 17,
   "id": "07869f42",
   "metadata": {},
   "outputs": [
    {
     "name": "stderr",
     "output_type": "stream",
     "text": [
      "C:\\Users\\ella.gorgin\\Anaconda3\\lib\\site-packages\\seaborn\\_decorators.py:36: FutureWarning: Pass the following variable as a keyword arg: x. From version 0.12, the only valid positional argument will be `data`, and passing other arguments without an explicit keyword will result in an error or misinterpretation.\n",
      "  warnings.warn(\n"
     ]
    },
    {
     "data": {
      "image/png": "[encoded data removed]",
      "text/plain": [
       "<Figure size 432x288 with 1 Axes>"
      ]
     },
     "metadata": {
      "needs_background": "light"
     },
     "output_type": "display_data"
    }
   ],
   "source": [
    "sns.boxplot(df['Time_taken(min)'])\n",
    "plt.show()"
   ]
  },
  {
   "cell_type": "code",
   "execution_count": 18,
   "id": "1dfcd85d",
   "metadata": {},
   "outputs": [],
   "source": [
    "max_quantile= df['Time_taken(min)'].quantile(0.95)\n",
    "min_quantile=df['Time_taken(min)'].quantile(0.05)\n",
    "df=df[(df['Time_taken(min)']<max_quantile) & (df['Time_taken(min)']>min_quantile)]"
   ]
  },
  {
   "cell_type": "code",
   "execution_count": 19,
   "id": "3152e232",
   "metadata": {},
   "outputs": [
    {
     "data": {
      "text/plain": [
       "14"
      ]
     },
     "execution_count": 19,
     "metadata": {},
     "output_type": "execute_result"
    }
   ],
   "source": [
    "df['Time_taken(min)'].min()"
   ]
  },
  {
   "cell_type": "code",
   "execution_count": 20,
   "id": "5ada6a8b",
   "metadata": {},
   "outputs": [
    {
     "data": {
      "text/plain": [
       "43"
      ]
     },
     "execution_count": 20,
     "metadata": {},
     "output_type": "execute_result"
    }
   ],
   "source": [
    "df['Time_taken(min)'].max()"
   ]
  },
  {
   "cell_type": "markdown",
   "id": "42ab8c23",
   "metadata": {},
   "source": [
    "# Delivery person age"
   ]
  },
  {
   "cell_type": "code",
   "execution_count": 21,
   "id": "5cbcd4b0",
   "metadata": {
    "scrolled": true
   },
   "outputs": [
    {
     "data": {
      "text/plain": [
       "Delivery_person_Age\n",
       "15.0      36\n",
       "20.0    1834\n",
       "21.0    1839\n",
       "22.0    1904\n",
       "23.0    1807\n",
       "24.0    1878\n",
       "25.0    1850\n",
       "26.0    1855\n",
       "27.0    1826\n",
       "28.0    1885\n",
       "29.0    1863\n",
       "30.0    2034\n",
       "31.0    1928\n",
       "32.0    2012\n",
       "33.0    1965\n",
       "34.0    1964\n",
       "35.0    2060\n",
       "36.0    2051\n",
       "37.0    2036\n",
       "38.0    2031\n",
       "39.0    1951\n",
       "50.0      50\n",
       "Name: Delivery_person_Age, dtype: int64"
      ]
     },
     "execution_count": 21,
     "metadata": {},
     "output_type": "execute_result"
    }
   ],
   "source": [
    "df.groupby('Delivery_person_Age')['Delivery_person_Age'].aggregate('count')"
   ]
  },
  {
   "cell_type": "code",
   "execution_count": 22,
   "id": "c4e56e53",
   "metadata": {},
   "outputs": [],
   "source": [
    "df=df[(df['Delivery_person_Age']<50) & (df['Delivery_person_Age']>15)]"
   ]
  },
  {
   "cell_type": "code",
   "execution_count": 23,
   "id": "046bb7a2",
   "metadata": {},
   "outputs": [
    {
     "data": {
      "text/plain": [
       "Delivery_person_Age\n",
       "20.0    1834\n",
       "21.0    1839\n",
       "22.0    1904\n",
       "23.0    1807\n",
       "24.0    1878\n",
       "25.0    1850\n",
       "26.0    1855\n",
       "27.0    1826\n",
       "28.0    1885\n",
       "29.0    1863\n",
       "30.0    2034\n",
       "31.0    1928\n",
       "32.0    2012\n",
       "33.0    1965\n",
       "34.0    1964\n",
       "35.0    2060\n",
       "36.0    2051\n",
       "37.0    2036\n",
       "38.0    2031\n",
       "39.0    1951\n",
       "Name: Delivery_person_Age, dtype: int64"
      ]
     },
     "execution_count": 23,
     "metadata": {},
     "output_type": "execute_result"
    }
   ],
   "source": [
    "df.groupby('Delivery_person_Age')['Delivery_person_Age'].aggregate('count')"
   ]
  },
  {
   "cell_type": "code",
   "execution_count": 24,
   "id": "fdc1c2bd",
   "metadata": {},
   "outputs": [],
   "source": [
    "df['Delivery_person_Age']=df['Delivery_person_Age'].fillna(df['Delivery_person_Age'].median())"
   ]
  },
  {
   "cell_type": "markdown",
   "id": "897e4b0b",
   "metadata": {},
   "source": [
    "#  Delivery person ratings "
   ]
  },
  {
   "cell_type": "code",
   "execution_count": 25,
   "id": "89e62dbd",
   "metadata": {},
   "outputs": [
    {
     "data": {
      "text/plain": [
       "Delivery_person_Ratings\n",
       "2.5      18\n",
       "2.6      20\n",
       "2.7      22\n",
       "2.8      19\n",
       "2.9      18\n",
       "3.0       6\n",
       "3.1      26\n",
       "3.2      27\n",
       "3.3      24\n",
       "3.4      31\n",
       "3.5     230\n",
       "3.6     191\n",
       "3.7     195\n",
       "3.8     212\n",
       "3.9     176\n",
       "4.0     960\n",
       "4.1    1267\n",
       "4.2    1258\n",
       "4.3    1259\n",
       "4.4    1208\n",
       "4.5    2931\n",
       "4.6    6147\n",
       "4.7    6279\n",
       "4.8    6310\n",
       "4.9    6200\n",
       "5.0    3490\n",
       "Name: Delivery_person_Ratings, dtype: int64"
      ]
     },
     "execution_count": 25,
     "metadata": {},
     "output_type": "execute_result"
    }
   ],
   "source": [
    "df.groupby('Delivery_person_Ratings')['Delivery_person_Ratings'].aggregate('count')"
   ]
  },
  {
   "cell_type": "code",
   "execution_count": 26,
   "id": "2f1fefd5",
   "metadata": {},
   "outputs": [],
   "source": [
    "\n",
    "df=df[df['Delivery_person_Ratings']>=3.5]"
   ]
  },
  {
   "cell_type": "code",
   "execution_count": 27,
   "id": "c87f96e7",
   "metadata": {},
   "outputs": [],
   "source": [
    "df['Delivery_person_Ratings']=df['Delivery_person_Ratings'].fillna(df['Delivery_person_Ratings'].mean())"
   ]
  },
  {
   "cell_type": "code",
   "execution_count": 28,
   "id": "c9ac802b",
   "metadata": {},
   "outputs": [
    {
     "data": {
      "text/plain": [
       "Delivery_person_Ratings\n",
       "3.5     230\n",
       "3.6     191\n",
       "3.7     195\n",
       "3.8     212\n",
       "3.9     176\n",
       "4.0     960\n",
       "4.1    1267\n",
       "4.2    1258\n",
       "4.3    1259\n",
       "4.4    1208\n",
       "4.5    2931\n",
       "4.6    6147\n",
       "4.7    6279\n",
       "4.8    6310\n",
       "4.9    6200\n",
       "5.0    3490\n",
       "Name: Delivery_person_Ratings, dtype: int64"
      ]
     },
     "execution_count": 28,
     "metadata": {},
     "output_type": "execute_result"
    }
   ],
   "source": [
    "df.groupby('Delivery_person_Ratings')['Delivery_person_Ratings'].aggregate('count')"
   ]
  },
  {
   "cell_type": "markdown",
   "id": "c55d66fa",
   "metadata": {},
   "source": [
    "# Time ordered"
   ]
  },
  {
   "cell_type": "code",
   "execution_count": 29,
   "id": "5e29913e",
   "metadata": {},
   "outputs": [
    {
     "data": {
      "text/plain": [
       "Time_Ordered\n",
       "0:00:00     382\n",
       "10:00:00    180\n",
       "10:10:00    121\n",
       "10:15:00    134\n",
       "10:20:00    161\n",
       "           ... \n",
       "9:35:00     137\n",
       "9:40:00     152\n",
       "9:45:00     131\n",
       "9:50:00     160\n",
       "9:55:00     153\n",
       "Name: Time_Ordered, Length: 176, dtype: int64"
      ]
     },
     "execution_count": 29,
     "metadata": {},
     "output_type": "execute_result"
    }
   ],
   "source": [
    "df.groupby('Time_Ordered')['Time_Ordered'].aggregate('count')"
   ]
  },
  {
   "cell_type": "code",
   "execution_count": 30,
   "id": "6c064002",
   "metadata": {},
   "outputs": [
    {
     "data": {
      "text/plain": [
       "'17:55:00'"
      ]
     },
     "execution_count": 30,
     "metadata": {},
     "output_type": "execute_result"
    }
   ],
   "source": [
    "df['Time_Ordered'].mode()[0]"
   ]
  },
  {
   "cell_type": "code",
   "execution_count": 31,
   "id": "d6398b62",
   "metadata": {},
   "outputs": [],
   "source": [
    "df['Time_Ordered']=df['Time_Ordered'].fillna(df['Time_Ordered'].mode()[0])"
   ]
  },
  {
   "cell_type": "code",
   "execution_count": 32,
   "id": "31976373",
   "metadata": {},
   "outputs": [],
   "source": [
    "#df=df.dropna(subset=['Time_Ordered'], axis=0)\n",
    "#df.shape"
   ]
  },
  {
   "cell_type": "code",
   "execution_count": 33,
   "id": "07c9cfb8",
   "metadata": {},
   "outputs": [
    {
     "data": {
      "text/plain": [
       "0    11\n",
       "1    19\n",
       "2     8\n",
       "3    18\n",
       "4    13\n",
       "Name: Time_Ordered_hour, dtype: object"
      ]
     },
     "execution_count": 33,
     "metadata": {},
     "output_type": "execute_result"
    }
   ],
   "source": [
    "df['Time_Ordered_hour']=df['Time_Ordered'].apply(lambda x: x.split(':')[0])\n",
    "df['Time_Ordered_hour'].head()"
   ]
  },
  {
   "cell_type": "code",
   "execution_count": 34,
   "id": "90e03223",
   "metadata": {},
   "outputs": [
    {
     "data": {
      "text/plain": [
       "0    30\n",
       "1    45\n",
       "2    30\n",
       "3    00\n",
       "4    30\n",
       "Name: Time_Ordered_minute, dtype: object"
      ]
     },
     "execution_count": 34,
     "metadata": {},
     "output_type": "execute_result"
    }
   ],
   "source": [
    "df['Time_Ordered_minute']=df['Time_Ordered'].apply(lambda x: x.split(':')[1])\n",
    "df['Time_Ordered_minute'].head()"
   ]
  },
  {
   "cell_type": "code",
   "execution_count": 35,
   "id": "c3fd59d2",
   "metadata": {},
   "outputs": [],
   "source": [
    "df['Time_Ordered_hour']= df['Time_Ordered_hour'].astype('float64')\n",
    "df['Time_Ordered_minute']= df['Time_Ordered_minute'].astype('float64')"
   ]
  },
  {
   "cell_type": "markdown",
   "id": "1118e9be",
   "metadata": {},
   "source": [
    "# Time order picked"
   ]
  },
  {
   "cell_type": "code",
   "execution_count": 36,
   "id": "d93ef253",
   "metadata": {},
   "outputs": [
    {
     "data": {
      "text/plain": [
       "Time_Order_picked\n",
       "0:00:00     359\n",
       "0:05:00     366\n",
       "0:10:00     236\n",
       "0:15:00     138\n",
       "10:00:00    160\n",
       "           ... \n",
       "9:35:00     155\n",
       "9:40:00     119\n",
       "9:45:00     154\n",
       "9:50:00     141\n",
       "9:55:00     132\n",
       "Name: Time_Order_picked, Length: 193, dtype: int64"
      ]
     },
     "execution_count": 36,
     "metadata": {},
     "output_type": "execute_result"
    }
   ],
   "source": [
    "df.groupby('Time_Order_picked')['Time_Order_picked'].aggregate('count')"
   ]
  },
  {
   "cell_type": "code",
   "execution_count": 37,
   "id": "f1829d7c",
   "metadata": {},
   "outputs": [
    {
     "data": {
      "text/plain": [
       "0    11\n",
       "1    19\n",
       "2     8\n",
       "3    18\n",
       "4    13\n",
       "Name: Time_Order_picked_hour, dtype: object"
      ]
     },
     "execution_count": 37,
     "metadata": {},
     "output_type": "execute_result"
    }
   ],
   "source": [
    "df['Time_Order_picked_hour']=df['Time_Order_picked'].apply(lambda x: x.split(':')[0])\n",
    "df['Time_Order_picked_hour'].head()"
   ]
  },
  {
   "cell_type": "code",
   "execution_count": 38,
   "id": "23c283e1",
   "metadata": {},
   "outputs": [
    {
     "data": {
      "text/plain": [
       "0    45\n",
       "1    50\n",
       "2    45\n",
       "3    10\n",
       "4    45\n",
       "Name: Time_Order_picked_minute, dtype: object"
      ]
     },
     "execution_count": 38,
     "metadata": {},
     "output_type": "execute_result"
    }
   ],
   "source": [
    "df['Time_Order_picked_minute']=df['Time_Order_picked'].apply(lambda x: x.split(':')[1])\n",
    "df['Time_Order_picked_minute'].head()"
   ]
  },
  {
   "cell_type": "code",
   "execution_count": 39,
   "id": "da045b3e",
   "metadata": {},
   "outputs": [],
   "source": [
    "df['Time_Order_picked_hour']= df['Time_Order_picked_hour'].astype('float64')\n",
    "df['Time_Order_picked_minute']= df['Time_Order_picked_minute'].astype('float64')"
   ]
  },
  {
   "cell_type": "code",
   "execution_count": 40,
   "id": "f632c3b3",
   "metadata": {},
   "outputs": [],
   "source": [
    "time_list=[]\n",
    "for i in range(len(df['Time_Ordered'])):\n",
    "    if df['Time_Ordered_hour'].iloc[i]== df['Time_Order_picked_hour'].iloc[i]:\n",
    "        time_list.append(df['Time_Order_picked_minute'].iloc[i]-df['Time_Ordered_minute'].iloc[i])\n",
    "    else:\n",
    "        time_list.append(60-df['Time_Ordered_minute'].iloc[i]+df['Time_Order_picked_minute'].iloc[i])\n",
    "    "
   ]
  },
  {
   "cell_type": "code",
   "execution_count": 41,
   "id": "c3abea98",
   "metadata": {},
   "outputs": [],
   "source": [
    "df['prep_time']=time_list"
   ]
  },
  {
   "cell_type": "code",
   "execution_count": 42,
   "id": "ec0b9858",
   "metadata": {},
   "outputs": [
    {
     "data": {
      "text/plain": [
       "5.0"
      ]
     },
     "execution_count": 42,
     "metadata": {},
     "output_type": "execute_result"
    }
   ],
   "source": [
    "df['prep_time'].min()"
   ]
  },
  {
   "cell_type": "code",
   "execution_count": 43,
   "id": "aee177b0",
   "metadata": {},
   "outputs": [
    {
     "data": {
      "text/plain": [
       "15.0"
      ]
     },
     "execution_count": 43,
     "metadata": {},
     "output_type": "execute_result"
    }
   ],
   "source": [
    "df['prep_time'].max()"
   ]
  },
  {
   "cell_type": "code",
   "execution_count": 44,
   "id": "92e40c6a",
   "metadata": {},
   "outputs": [
    {
     "data": {
      "text/html": [
       "<div>\n",
       "<style scoped>\n",
       "    .dataframe tbody tr th:only-of-type {\n",
       "        vertical-align: middle;\n",
       "    }\n",
       "\n",
       "    .dataframe tbody tr th {\n",
       "        vertical-align: top;\n",
       "    }\n",
       "\n",
       "    .dataframe thead th {\n",
       "        text-align: right;\n",
       "    }\n",
       "</style>\n",
       "<table border=\"1\" class=\"dataframe\">\n",
       "  <thead>\n",
       "    <tr style=\"text-align: right;\">\n",
       "      <th></th>\n",
       "      <th>ID</th>\n",
       "      <th>Delivery_person_ID</th>\n",
       "      <th>Delivery_person_Age</th>\n",
       "      <th>Delivery_person_Ratings</th>\n",
       "      <th>Restaurant_latitude</th>\n",
       "      <th>Restaurant_longitude</th>\n",
       "      <th>Delivery_location_latitude</th>\n",
       "      <th>Delivery_location_longitude</th>\n",
       "      <th>Order_Date</th>\n",
       "      <th>Time_Ordered</th>\n",
       "      <th>...</th>\n",
       "      <th>City</th>\n",
       "      <th>Time_taken(min)</th>\n",
       "      <th>day</th>\n",
       "      <th>month</th>\n",
       "      <th>year</th>\n",
       "      <th>Time_Ordered_hour</th>\n",
       "      <th>Time_Ordered_minute</th>\n",
       "      <th>Time_Order_picked_hour</th>\n",
       "      <th>Time_Order_picked_minute</th>\n",
       "      <th>prep_time</th>\n",
       "    </tr>\n",
       "  </thead>\n",
       "  <tbody>\n",
       "    <tr>\n",
       "      <th>0</th>\n",
       "      <td>0x4607</td>\n",
       "      <td>INDORES13DEL02</td>\n",
       "      <td>37.0</td>\n",
       "      <td>4.9</td>\n",
       "      <td>22.745049</td>\n",
       "      <td>75.892471</td>\n",
       "      <td>22.765049</td>\n",
       "      <td>75.912471</td>\n",
       "      <td>2022-03-19</td>\n",
       "      <td>11:30:00</td>\n",
       "      <td>...</td>\n",
       "      <td>Urban</td>\n",
       "      <td>24</td>\n",
       "      <td>19</td>\n",
       "      <td>3</td>\n",
       "      <td>2022</td>\n",
       "      <td>11.0</td>\n",
       "      <td>30.0</td>\n",
       "      <td>11.0</td>\n",
       "      <td>45.0</td>\n",
       "      <td>15.0</td>\n",
       "    </tr>\n",
       "    <tr>\n",
       "      <th>1</th>\n",
       "      <td>0xb379</td>\n",
       "      <td>BANGRES18DEL02</td>\n",
       "      <td>34.0</td>\n",
       "      <td>4.5</td>\n",
       "      <td>12.913041</td>\n",
       "      <td>77.683237</td>\n",
       "      <td>13.043041</td>\n",
       "      <td>77.813237</td>\n",
       "      <td>2022-03-25</td>\n",
       "      <td>19:45:00</td>\n",
       "      <td>...</td>\n",
       "      <td>Metropolitian</td>\n",
       "      <td>33</td>\n",
       "      <td>25</td>\n",
       "      <td>3</td>\n",
       "      <td>2022</td>\n",
       "      <td>19.0</td>\n",
       "      <td>45.0</td>\n",
       "      <td>19.0</td>\n",
       "      <td>50.0</td>\n",
       "      <td>5.0</td>\n",
       "    </tr>\n",
       "    <tr>\n",
       "      <th>2</th>\n",
       "      <td>0x5d6d</td>\n",
       "      <td>BANGRES19DEL01</td>\n",
       "      <td>23.0</td>\n",
       "      <td>4.4</td>\n",
       "      <td>12.914264</td>\n",
       "      <td>77.678400</td>\n",
       "      <td>12.924264</td>\n",
       "      <td>77.688400</td>\n",
       "      <td>2022-03-19</td>\n",
       "      <td>8:30:00</td>\n",
       "      <td>...</td>\n",
       "      <td>Urban</td>\n",
       "      <td>26</td>\n",
       "      <td>19</td>\n",
       "      <td>3</td>\n",
       "      <td>2022</td>\n",
       "      <td>8.0</td>\n",
       "      <td>30.0</td>\n",
       "      <td>8.0</td>\n",
       "      <td>45.0</td>\n",
       "      <td>15.0</td>\n",
       "    </tr>\n",
       "    <tr>\n",
       "      <th>3</th>\n",
       "      <td>0x7a6a</td>\n",
       "      <td>COIMBRES13DEL02</td>\n",
       "      <td>38.0</td>\n",
       "      <td>4.7</td>\n",
       "      <td>11.003669</td>\n",
       "      <td>76.976494</td>\n",
       "      <td>11.053669</td>\n",
       "      <td>77.026494</td>\n",
       "      <td>2022-05-04</td>\n",
       "      <td>18:00:00</td>\n",
       "      <td>...</td>\n",
       "      <td>Metropolitian</td>\n",
       "      <td>21</td>\n",
       "      <td>4</td>\n",
       "      <td>5</td>\n",
       "      <td>2022</td>\n",
       "      <td>18.0</td>\n",
       "      <td>0.0</td>\n",
       "      <td>18.0</td>\n",
       "      <td>10.0</td>\n",
       "      <td>10.0</td>\n",
       "    </tr>\n",
       "    <tr>\n",
       "      <th>4</th>\n",
       "      <td>0x70a2</td>\n",
       "      <td>CHENRES12DEL01</td>\n",
       "      <td>32.0</td>\n",
       "      <td>4.6</td>\n",
       "      <td>12.972793</td>\n",
       "      <td>80.249982</td>\n",
       "      <td>13.012793</td>\n",
       "      <td>80.289982</td>\n",
       "      <td>2022-03-26</td>\n",
       "      <td>13:30:00</td>\n",
       "      <td>...</td>\n",
       "      <td>Metropolitian</td>\n",
       "      <td>30</td>\n",
       "      <td>26</td>\n",
       "      <td>3</td>\n",
       "      <td>2022</td>\n",
       "      <td>13.0</td>\n",
       "      <td>30.0</td>\n",
       "      <td>13.0</td>\n",
       "      <td>45.0</td>\n",
       "      <td>15.0</td>\n",
       "    </tr>\n",
       "  </tbody>\n",
       "</table>\n",
       "<p>5 rows × 28 columns</p>\n",
       "</div>"
      ],
      "text/plain": [
       "        ID Delivery_person_ID  Delivery_person_Age  Delivery_person_Ratings  \\\n",
       "0  0x4607     INDORES13DEL02                  37.0                      4.9   \n",
       "1  0xb379     BANGRES18DEL02                  34.0                      4.5   \n",
       "2  0x5d6d     BANGRES19DEL01                  23.0                      4.4   \n",
       "3  0x7a6a    COIMBRES13DEL02                  38.0                      4.7   \n",
       "4  0x70a2     CHENRES12DEL01                  32.0                      4.6   \n",
       "\n",
       "   Restaurant_latitude  Restaurant_longitude  Delivery_location_latitude  \\\n",
       "0            22.745049             75.892471                   22.765049   \n",
       "1            12.913041             77.683237                   13.043041   \n",
       "2            12.914264             77.678400                   12.924264   \n",
       "3            11.003669             76.976494                   11.053669   \n",
       "4            12.972793             80.249982                   13.012793   \n",
       "\n",
       "   Delivery_location_longitude Order_Date Time_Ordered  ...            City  \\\n",
       "0                    75.912471 2022-03-19     11:30:00  ...          Urban    \n",
       "1                    77.813237 2022-03-25     19:45:00  ...  Metropolitian    \n",
       "2                    77.688400 2022-03-19      8:30:00  ...          Urban    \n",
       "3                    77.026494 2022-05-04     18:00:00  ...  Metropolitian    \n",
       "4                    80.289982 2022-03-26     13:30:00  ...  Metropolitian    \n",
       "\n",
       "  Time_taken(min) day  month  year Time_Ordered_hour  Time_Ordered_minute  \\\n",
       "0              24  19      3  2022              11.0                 30.0   \n",
       "1              33  25      3  2022              19.0                 45.0   \n",
       "2              26  19      3  2022               8.0                 30.0   \n",
       "3              21   4      5  2022              18.0                  0.0   \n",
       "4              30  26      3  2022              13.0                 30.0   \n",
       "\n",
       "  Time_Order_picked_hour Time_Order_picked_minute  prep_time  \n",
       "0                   11.0                     45.0       15.0  \n",
       "1                   19.0                     50.0        5.0  \n",
       "2                    8.0                     45.0       15.0  \n",
       "3                   18.0                     10.0       10.0  \n",
       "4                   13.0                     45.0       15.0  \n",
       "\n",
       "[5 rows x 28 columns]"
      ]
     },
     "execution_count": 44,
     "metadata": {},
     "output_type": "execute_result"
    }
   ],
   "source": [
    "df.head()"
   ]
  },
  {
   "cell_type": "markdown",
   "id": "22d9fa9b",
   "metadata": {},
   "source": [
    "# Weather conditions "
   ]
  },
  {
   "cell_type": "code",
   "execution_count": 45,
   "id": "562a0bed",
   "metadata": {},
   "outputs": [
    {
     "data": {
      "text/plain": [
       "Weatherconditions\n",
       "conditions Cloudy        6357\n",
       "conditions Fog           6507\n",
       "conditions Sandstorms    6509\n",
       "conditions Stormy        6695\n",
       "conditions Sunny         5770\n",
       "conditions Windy         6475\n",
       "Name: Weatherconditions, dtype: int64"
      ]
     },
     "execution_count": 45,
     "metadata": {},
     "output_type": "execute_result"
    }
   ],
   "source": [
    "df.groupby('Weatherconditions')['Weatherconditions'].aggregate('count')"
   ]
  },
  {
   "cell_type": "code",
   "execution_count": 46,
   "id": "b803cd6e",
   "metadata": {},
   "outputs": [],
   "source": [
    "df['Weatherconditions'] = df['Weatherconditions'].replace(['conditions NaN'],  df['Weatherconditions'].mode()[0])"
   ]
  },
  {
   "cell_type": "code",
   "execution_count": 47,
   "id": "e08b3c6e",
   "metadata": {},
   "outputs": [
    {
     "data": {
      "text/plain": [
       "Weatherconditions\n",
       "conditions Cloudy        6357\n",
       "conditions Fog           6507\n",
       "conditions Sandstorms    6509\n",
       "conditions Stormy        6695\n",
       "conditions Sunny         5770\n",
       "conditions Windy         6475\n",
       "Name: Weatherconditions, dtype: int64"
      ]
     },
     "execution_count": 47,
     "metadata": {},
     "output_type": "execute_result"
    }
   ],
   "source": [
    "df.groupby('Weatherconditions')['Weatherconditions'].aggregate('count')"
   ]
  },
  {
   "cell_type": "code",
   "execution_count": 48,
   "id": "c8ebf973",
   "metadata": {},
   "outputs": [
    {
     "data": {
      "text/plain": [
       "<AxesSubplot:xlabel='Weatherconditions', ylabel='Time_taken(min)'>"
      ]
     },
     "execution_count": 48,
     "metadata": {},
     "output_type": "execute_result"
    },
    {
     "data": {
      "image/png": "[encoded data removed]",
      "text/plain": [
       "<Figure size 432x288 with 1 Axes>"
      ]
     },
     "metadata": {
      "needs_background": "light"
     },
     "output_type": "display_data"
    }
   ],
   "source": [
    "sns.boxplot(data=df, x='Weatherconditions', y='Time_taken(min)', width=0.7)"
   ]
  },
  {
   "cell_type": "markdown",
   "id": "e55513ca",
   "metadata": {},
   "source": [
    "# \tRoad traffic density "
   ]
  },
  {
   "cell_type": "code",
   "execution_count": 49,
   "id": "c4ecde53",
   "metadata": {},
   "outputs": [
    {
     "data": {
      "text/plain": [
       "Road_traffic_density\n",
       "High        3867\n",
       "Jam        11626\n",
       "Low        13040\n",
       "Medium      9780\n",
       "Name: Road_traffic_density, dtype: int64"
      ]
     },
     "execution_count": 49,
     "metadata": {},
     "output_type": "execute_result"
    }
   ],
   "source": [
    "df.groupby('Road_traffic_density')['Road_traffic_density'].aggregate('count')"
   ]
  },
  {
   "cell_type": "code",
   "execution_count": 50,
   "id": "e4dd3ab2",
   "metadata": {},
   "outputs": [],
   "source": [
    "df['Road_traffic_density'] = df['Road_traffic_density'].fillna(df['Road_traffic_density'].mode()[0])"
   ]
  },
  {
   "cell_type": "code",
   "execution_count": 51,
   "id": "af5094d5",
   "metadata": {},
   "outputs": [
    {
     "data": {
      "text/plain": [
       "<AxesSubplot:xlabel='Road_traffic_density', ylabel='Time_taken(min)'>"
      ]
     },
     "execution_count": 51,
     "metadata": {},
     "output_type": "execute_result"
    },
    {
     "data": {
      "image/png": "[encoded data removed]",
      "text/plain": [
       "<Figure size 432x288 with 1 Axes>"
      ]
     },
     "metadata": {
      "needs_background": "light"
     },
     "output_type": "display_data"
    }
   ],
   "source": [
    "sns.boxplot(data=df, x='Road_traffic_density', y='Time_taken(min)', width=0.7)"
   ]
  },
  {
   "cell_type": "markdown",
   "id": "79589bf6",
   "metadata": {},
   "source": [
    "# Type of order"
   ]
  },
  {
   "cell_type": "code",
   "execution_count": 52,
   "id": "705af214",
   "metadata": {},
   "outputs": [
    {
     "data": {
      "text/plain": [
       "Type_of_order\n",
       "Buffet     9473\n",
       "Drinks     9560\n",
       "Meal       9623\n",
       "Snack      9657\n",
       "Name: Type_of_order, dtype: int64"
      ]
     },
     "execution_count": 52,
     "metadata": {},
     "output_type": "execute_result"
    }
   ],
   "source": [
    "df.groupby('Type_of_order')['Type_of_order'].aggregate('count')"
   ]
  },
  {
   "cell_type": "code",
   "execution_count": 53,
   "id": "9853982b",
   "metadata": {},
   "outputs": [
    {
     "data": {
      "text/plain": [
       "<AxesSubplot:xlabel='Type_of_order', ylabel='Time_taken(min)'>"
      ]
     },
     "execution_count": 53,
     "metadata": {},
     "output_type": "execute_result"
    },
    {
     "data": {
      "image/png": "[encoded data removed]",
      "text/plain": [
       "<Figure size 432x288 with 1 Axes>"
      ]
     },
     "metadata": {
      "needs_background": "light"
     },
     "output_type": "display_data"
    }
   ],
   "source": [
    "sns.boxplot(data=df, x='Type_of_order', y='Time_taken(min)', width=0.7)"
   ]
  },
  {
   "cell_type": "markdown",
   "id": "f287cd6e",
   "metadata": {},
   "source": [
    "# Type of vehicle "
   ]
  },
  {
   "cell_type": "code",
   "execution_count": 54,
   "id": "1105be91",
   "metadata": {},
   "outputs": [
    {
     "data": {
      "text/plain": [
       "Type_of_vehicle\n",
       "electric_scooter      3132\n",
       "motorcycle           22287\n",
       "scooter              12894\n",
       "Name: Type_of_vehicle, dtype: int64"
      ]
     },
     "execution_count": 54,
     "metadata": {},
     "output_type": "execute_result"
    }
   ],
   "source": [
    "df.groupby('Type_of_vehicle')['Type_of_vehicle'].aggregate('count')"
   ]
  },
  {
   "cell_type": "code",
   "execution_count": 55,
   "id": "8defedf4",
   "metadata": {},
   "outputs": [
    {
     "data": {
      "text/plain": [
       "<AxesSubplot:xlabel='Type_of_vehicle', ylabel='Time_taken(min)'>"
      ]
     },
     "execution_count": 55,
     "metadata": {},
     "output_type": "execute_result"
    },
    {
     "data": {
      "image/png": "[encoded data removed]",
      "text/plain": [
       "<Figure size 432x288 with 1 Axes>"
      ]
     },
     "metadata": {
      "needs_background": "light"
     },
     "output_type": "display_data"
    }
   ],
   "source": [
    "sns.boxplot(data=df, x='Type_of_vehicle', y='Time_taken(min)', width=0.7)"
   ]
  },
  {
   "cell_type": "markdown",
   "id": "9e7b4ca1",
   "metadata": {},
   "source": [
    "# Vehicle condition"
   ]
  },
  {
   "cell_type": "code",
   "execution_count": 56,
   "id": "90450f27",
   "metadata": {},
   "outputs": [
    {
     "data": {
      "text/plain": [
       "Vehicle_condition\n",
       "0    12659\n",
       "1    12743\n",
       "2    12911\n",
       "Name: Vehicle_condition, dtype: int64"
      ]
     },
     "execution_count": 56,
     "metadata": {},
     "output_type": "execute_result"
    }
   ],
   "source": [
    "df.groupby('Vehicle_condition')['Vehicle_condition'].aggregate('count')"
   ]
  },
  {
   "cell_type": "markdown",
   "id": "19ebf368",
   "metadata": {},
   "source": [
    "# Multiple deliveries"
   ]
  },
  {
   "cell_type": "code",
   "execution_count": 57,
   "id": "d70c0988",
   "metadata": {},
   "outputs": [
    {
     "data": {
      "text/plain": [
       "multiple_deliveries\n",
       "0.0    11367\n",
       "1.0    24716\n",
       "2.0     1399\n",
       "3.0       39\n",
       "Name: multiple_deliveries, dtype: int64"
      ]
     },
     "execution_count": 57,
     "metadata": {},
     "output_type": "execute_result"
    }
   ],
   "source": [
    "df.groupby('multiple_deliveries')['multiple_deliveries'].aggregate('count')"
   ]
  },
  {
   "cell_type": "code",
   "execution_count": 58,
   "id": "f59ada3b",
   "metadata": {},
   "outputs": [],
   "source": [
    "# df['multiple_deliveries'] = df['multiple_deliveries'].replace(['nan'],  df['multiple_deliveries'].mode()[0])\n",
    "df['multiple_deliveries'] = df['multiple_deliveries'].fillna(df['multiple_deliveries'].mode()[0])"
   ]
  },
  {
   "cell_type": "markdown",
   "id": "03496331",
   "metadata": {},
   "source": [
    "# City "
   ]
  },
  {
   "cell_type": "code",
   "execution_count": 59,
   "id": "aa3b9889",
   "metadata": {},
   "outputs": [
    {
     "data": {
      "text/plain": [
       "City\n",
       "Metropolitian     29211\n",
       "Urban              8160\n",
       "Name: City, dtype: int64"
      ]
     },
     "execution_count": 59,
     "metadata": {},
     "output_type": "execute_result"
    }
   ],
   "source": [
    "df.groupby('City')['City'].aggregate('count')"
   ]
  },
  {
   "cell_type": "code",
   "execution_count": 60,
   "id": "eec58c30",
   "metadata": {},
   "outputs": [
    {
     "data": {
      "text/plain": [
       "942"
      ]
     },
     "execution_count": 60,
     "metadata": {},
     "output_type": "execute_result"
    }
   ],
   "source": [
    "df['City'].isnull().sum()"
   ]
  },
  {
   "cell_type": "code",
   "execution_count": 61,
   "id": "c56f13dc",
   "metadata": {},
   "outputs": [
    {
     "data": {
      "text/html": [
       "<div>\n",
       "<style scoped>\n",
       "    .dataframe tbody tr th:only-of-type {\n",
       "        vertical-align: middle;\n",
       "    }\n",
       "\n",
       "    .dataframe tbody tr th {\n",
       "        vertical-align: top;\n",
       "    }\n",
       "\n",
       "    .dataframe thead th {\n",
       "        text-align: right;\n",
       "    }\n",
       "</style>\n",
       "<table border=\"1\" class=\"dataframe\">\n",
       "  <thead>\n",
       "    <tr style=\"text-align: right;\">\n",
       "      <th></th>\n",
       "      <th>ID</th>\n",
       "      <th>Delivery_person_ID</th>\n",
       "      <th>Delivery_person_Age</th>\n",
       "      <th>Delivery_person_Ratings</th>\n",
       "      <th>Restaurant_latitude</th>\n",
       "      <th>Restaurant_longitude</th>\n",
       "      <th>Delivery_location_latitude</th>\n",
       "      <th>Delivery_location_longitude</th>\n",
       "      <th>Order_Date</th>\n",
       "      <th>Time_Ordered</th>\n",
       "      <th>...</th>\n",
       "      <th>City</th>\n",
       "      <th>Time_taken(min)</th>\n",
       "      <th>day</th>\n",
       "      <th>month</th>\n",
       "      <th>year</th>\n",
       "      <th>Time_Ordered_hour</th>\n",
       "      <th>Time_Ordered_minute</th>\n",
       "      <th>Time_Order_picked_hour</th>\n",
       "      <th>Time_Order_picked_minute</th>\n",
       "      <th>prep_time</th>\n",
       "    </tr>\n",
       "  </thead>\n",
       "  <tbody>\n",
       "    <tr>\n",
       "      <th>0</th>\n",
       "      <td>0x4607</td>\n",
       "      <td>INDORES13DEL02</td>\n",
       "      <td>37.0</td>\n",
       "      <td>4.9</td>\n",
       "      <td>22.745049</td>\n",
       "      <td>75.892471</td>\n",
       "      <td>22.765049</td>\n",
       "      <td>75.912471</td>\n",
       "      <td>2022-03-19</td>\n",
       "      <td>11:30:00</td>\n",
       "      <td>...</td>\n",
       "      <td>Urban</td>\n",
       "      <td>24</td>\n",
       "      <td>19</td>\n",
       "      <td>3</td>\n",
       "      <td>2022</td>\n",
       "      <td>11.0</td>\n",
       "      <td>30.0</td>\n",
       "      <td>11.0</td>\n",
       "      <td>45.0</td>\n",
       "      <td>15.0</td>\n",
       "    </tr>\n",
       "    <tr>\n",
       "      <th>1</th>\n",
       "      <td>0xb379</td>\n",
       "      <td>BANGRES18DEL02</td>\n",
       "      <td>34.0</td>\n",
       "      <td>4.5</td>\n",
       "      <td>12.913041</td>\n",
       "      <td>77.683237</td>\n",
       "      <td>13.043041</td>\n",
       "      <td>77.813237</td>\n",
       "      <td>2022-03-25</td>\n",
       "      <td>19:45:00</td>\n",
       "      <td>...</td>\n",
       "      <td>Metropolitian</td>\n",
       "      <td>33</td>\n",
       "      <td>25</td>\n",
       "      <td>3</td>\n",
       "      <td>2022</td>\n",
       "      <td>19.0</td>\n",
       "      <td>45.0</td>\n",
       "      <td>19.0</td>\n",
       "      <td>50.0</td>\n",
       "      <td>5.0</td>\n",
       "    </tr>\n",
       "    <tr>\n",
       "      <th>2</th>\n",
       "      <td>0x5d6d</td>\n",
       "      <td>BANGRES19DEL01</td>\n",
       "      <td>23.0</td>\n",
       "      <td>4.4</td>\n",
       "      <td>12.914264</td>\n",
       "      <td>77.678400</td>\n",
       "      <td>12.924264</td>\n",
       "      <td>77.688400</td>\n",
       "      <td>2022-03-19</td>\n",
       "      <td>8:30:00</td>\n",
       "      <td>...</td>\n",
       "      <td>Urban</td>\n",
       "      <td>26</td>\n",
       "      <td>19</td>\n",
       "      <td>3</td>\n",
       "      <td>2022</td>\n",
       "      <td>8.0</td>\n",
       "      <td>30.0</td>\n",
       "      <td>8.0</td>\n",
       "      <td>45.0</td>\n",
       "      <td>15.0</td>\n",
       "    </tr>\n",
       "    <tr>\n",
       "      <th>3</th>\n",
       "      <td>0x7a6a</td>\n",
       "      <td>COIMBRES13DEL02</td>\n",
       "      <td>38.0</td>\n",
       "      <td>4.7</td>\n",
       "      <td>11.003669</td>\n",
       "      <td>76.976494</td>\n",
       "      <td>11.053669</td>\n",
       "      <td>77.026494</td>\n",
       "      <td>2022-05-04</td>\n",
       "      <td>18:00:00</td>\n",
       "      <td>...</td>\n",
       "      <td>Metropolitian</td>\n",
       "      <td>21</td>\n",
       "      <td>4</td>\n",
       "      <td>5</td>\n",
       "      <td>2022</td>\n",
       "      <td>18.0</td>\n",
       "      <td>0.0</td>\n",
       "      <td>18.0</td>\n",
       "      <td>10.0</td>\n",
       "      <td>10.0</td>\n",
       "    </tr>\n",
       "    <tr>\n",
       "      <th>4</th>\n",
       "      <td>0x70a2</td>\n",
       "      <td>CHENRES12DEL01</td>\n",
       "      <td>32.0</td>\n",
       "      <td>4.6</td>\n",
       "      <td>12.972793</td>\n",
       "      <td>80.249982</td>\n",
       "      <td>13.012793</td>\n",
       "      <td>80.289982</td>\n",
       "      <td>2022-03-26</td>\n",
       "      <td>13:30:00</td>\n",
       "      <td>...</td>\n",
       "      <td>Metropolitian</td>\n",
       "      <td>30</td>\n",
       "      <td>26</td>\n",
       "      <td>3</td>\n",
       "      <td>2022</td>\n",
       "      <td>13.0</td>\n",
       "      <td>30.0</td>\n",
       "      <td>13.0</td>\n",
       "      <td>45.0</td>\n",
       "      <td>15.0</td>\n",
       "    </tr>\n",
       "    <tr>\n",
       "      <th>...</th>\n",
       "      <td>...</td>\n",
       "      <td>...</td>\n",
       "      <td>...</td>\n",
       "      <td>...</td>\n",
       "      <td>...</td>\n",
       "      <td>...</td>\n",
       "      <td>...</td>\n",
       "      <td>...</td>\n",
       "      <td>...</td>\n",
       "      <td>...</td>\n",
       "      <td>...</td>\n",
       "      <td>...</td>\n",
       "      <td>...</td>\n",
       "      <td>...</td>\n",
       "      <td>...</td>\n",
       "      <td>...</td>\n",
       "      <td>...</td>\n",
       "      <td>...</td>\n",
       "      <td>...</td>\n",
       "      <td>...</td>\n",
       "      <td>...</td>\n",
       "    </tr>\n",
       "    <tr>\n",
       "      <th>45588</th>\n",
       "      <td>0x7c09</td>\n",
       "      <td>JAPRES04DEL01</td>\n",
       "      <td>30.0</td>\n",
       "      <td>4.8</td>\n",
       "      <td>26.902328</td>\n",
       "      <td>75.794257</td>\n",
       "      <td>26.912328</td>\n",
       "      <td>75.804257</td>\n",
       "      <td>2022-03-24</td>\n",
       "      <td>11:35:00</td>\n",
       "      <td>...</td>\n",
       "      <td>Metropolitian</td>\n",
       "      <td>32</td>\n",
       "      <td>24</td>\n",
       "      <td>3</td>\n",
       "      <td>2022</td>\n",
       "      <td>11.0</td>\n",
       "      <td>35.0</td>\n",
       "      <td>11.0</td>\n",
       "      <td>45.0</td>\n",
       "      <td>10.0</td>\n",
       "    </tr>\n",
       "    <tr>\n",
       "      <th>45589</th>\n",
       "      <td>0xd641</td>\n",
       "      <td>AGRRES16DEL01</td>\n",
       "      <td>21.0</td>\n",
       "      <td>4.6</td>\n",
       "      <td>0.000000</td>\n",
       "      <td>0.000000</td>\n",
       "      <td>0.070000</td>\n",
       "      <td>0.070000</td>\n",
       "      <td>2022-02-16</td>\n",
       "      <td>19:55:00</td>\n",
       "      <td>...</td>\n",
       "      <td>Metropolitian</td>\n",
       "      <td>36</td>\n",
       "      <td>16</td>\n",
       "      <td>2</td>\n",
       "      <td>2022</td>\n",
       "      <td>19.0</td>\n",
       "      <td>55.0</td>\n",
       "      <td>20.0</td>\n",
       "      <td>10.0</td>\n",
       "      <td>15.0</td>\n",
       "    </tr>\n",
       "    <tr>\n",
       "      <th>45590</th>\n",
       "      <td>0x4f8d</td>\n",
       "      <td>CHENRES08DEL03</td>\n",
       "      <td>30.0</td>\n",
       "      <td>4.9</td>\n",
       "      <td>13.022394</td>\n",
       "      <td>80.242439</td>\n",
       "      <td>13.052394</td>\n",
       "      <td>80.272439</td>\n",
       "      <td>2022-11-03</td>\n",
       "      <td>23:50:00</td>\n",
       "      <td>...</td>\n",
       "      <td>Metropolitian</td>\n",
       "      <td>16</td>\n",
       "      <td>3</td>\n",
       "      <td>11</td>\n",
       "      <td>2022</td>\n",
       "      <td>23.0</td>\n",
       "      <td>50.0</td>\n",
       "      <td>0.0</td>\n",
       "      <td>5.0</td>\n",
       "      <td>15.0</td>\n",
       "    </tr>\n",
       "    <tr>\n",
       "      <th>45591</th>\n",
       "      <td>0x5eee</td>\n",
       "      <td>COIMBRES11DEL01</td>\n",
       "      <td>20.0</td>\n",
       "      <td>4.7</td>\n",
       "      <td>11.001753</td>\n",
       "      <td>76.986241</td>\n",
       "      <td>11.041753</td>\n",
       "      <td>77.026241</td>\n",
       "      <td>2022-07-03</td>\n",
       "      <td>13:35:00</td>\n",
       "      <td>...</td>\n",
       "      <td>Metropolitian</td>\n",
       "      <td>26</td>\n",
       "      <td>3</td>\n",
       "      <td>7</td>\n",
       "      <td>2022</td>\n",
       "      <td>13.0</td>\n",
       "      <td>35.0</td>\n",
       "      <td>13.0</td>\n",
       "      <td>40.0</td>\n",
       "      <td>5.0</td>\n",
       "    </tr>\n",
       "    <tr>\n",
       "      <th>45592</th>\n",
       "      <td>0x5fb2</td>\n",
       "      <td>RANCHIRES09DEL02</td>\n",
       "      <td>23.0</td>\n",
       "      <td>4.9</td>\n",
       "      <td>23.351058</td>\n",
       "      <td>85.325731</td>\n",
       "      <td>23.431058</td>\n",
       "      <td>85.405731</td>\n",
       "      <td>2022-02-03</td>\n",
       "      <td>17:10:00</td>\n",
       "      <td>...</td>\n",
       "      <td>Metropolitian</td>\n",
       "      <td>36</td>\n",
       "      <td>3</td>\n",
       "      <td>2</td>\n",
       "      <td>2022</td>\n",
       "      <td>17.0</td>\n",
       "      <td>10.0</td>\n",
       "      <td>17.0</td>\n",
       "      <td>15.0</td>\n",
       "      <td>5.0</td>\n",
       "    </tr>\n",
       "  </tbody>\n",
       "</table>\n",
       "<p>37371 rows × 28 columns</p>\n",
       "</div>"
      ],
      "text/plain": [
       "            ID Delivery_person_ID  Delivery_person_Age  \\\n",
       "0      0x4607     INDORES13DEL02                  37.0   \n",
       "1      0xb379     BANGRES18DEL02                  34.0   \n",
       "2      0x5d6d     BANGRES19DEL01                  23.0   \n",
       "3      0x7a6a    COIMBRES13DEL02                  38.0   \n",
       "4      0x70a2     CHENRES12DEL01                  32.0   \n",
       "...        ...                ...                  ...   \n",
       "45588  0x7c09      JAPRES04DEL01                  30.0   \n",
       "45589  0xd641      AGRRES16DEL01                  21.0   \n",
       "45590  0x4f8d     CHENRES08DEL03                  30.0   \n",
       "45591  0x5eee    COIMBRES11DEL01                  20.0   \n",
       "45592  0x5fb2   RANCHIRES09DEL02                  23.0   \n",
       "\n",
       "       Delivery_person_Ratings  Restaurant_latitude  Restaurant_longitude  \\\n",
       "0                          4.9            22.745049             75.892471   \n",
       "1                          4.5            12.913041             77.683237   \n",
       "2                          4.4            12.914264             77.678400   \n",
       "3                          4.7            11.003669             76.976494   \n",
       "4                          4.6            12.972793             80.249982   \n",
       "...                        ...                  ...                   ...   \n",
       "45588                      4.8            26.902328             75.794257   \n",
       "45589                      4.6             0.000000              0.000000   \n",
       "45590                      4.9            13.022394             80.242439   \n",
       "45591                      4.7            11.001753             76.986241   \n",
       "45592                      4.9            23.351058             85.325731   \n",
       "\n",
       "       Delivery_location_latitude  Delivery_location_longitude Order_Date  \\\n",
       "0                       22.765049                    75.912471 2022-03-19   \n",
       "1                       13.043041                    77.813237 2022-03-25   \n",
       "2                       12.924264                    77.688400 2022-03-19   \n",
       "3                       11.053669                    77.026494 2022-05-04   \n",
       "4                       13.012793                    80.289982 2022-03-26   \n",
       "...                           ...                          ...        ...   \n",
       "45588                   26.912328                    75.804257 2022-03-24   \n",
       "45589                    0.070000                     0.070000 2022-02-16   \n",
       "45590                   13.052394                    80.272439 2022-11-03   \n",
       "45591                   11.041753                    77.026241 2022-07-03   \n",
       "45592                   23.431058                    85.405731 2022-02-03   \n",
       "\n",
       "      Time_Ordered  ...            City Time_taken(min) day  month  year  \\\n",
       "0         11:30:00  ...          Urban               24  19      3  2022   \n",
       "1         19:45:00  ...  Metropolitian               33  25      3  2022   \n",
       "2          8:30:00  ...          Urban               26  19      3  2022   \n",
       "3         18:00:00  ...  Metropolitian               21   4      5  2022   \n",
       "4         13:30:00  ...  Metropolitian               30  26      3  2022   \n",
       "...            ...  ...             ...             ...  ..    ...   ...   \n",
       "45588     11:35:00  ...  Metropolitian               32  24      3  2022   \n",
       "45589     19:55:00  ...  Metropolitian               36  16      2  2022   \n",
       "45590     23:50:00  ...  Metropolitian               16   3     11  2022   \n",
       "45591     13:35:00  ...  Metropolitian               26   3      7  2022   \n",
       "45592     17:10:00  ...  Metropolitian               36   3      2  2022   \n",
       "\n",
       "      Time_Ordered_hour  Time_Ordered_minute Time_Order_picked_hour  \\\n",
       "0                  11.0                 30.0                   11.0   \n",
       "1                  19.0                 45.0                   19.0   \n",
       "2                   8.0                 30.0                    8.0   \n",
       "3                  18.0                  0.0                   18.0   \n",
       "4                  13.0                 30.0                   13.0   \n",
       "...                 ...                  ...                    ...   \n",
       "45588              11.0                 35.0                   11.0   \n",
       "45589              19.0                 55.0                   20.0   \n",
       "45590              23.0                 50.0                    0.0   \n",
       "45591              13.0                 35.0                   13.0   \n",
       "45592              17.0                 10.0                   17.0   \n",
       "\n",
       "      Time_Order_picked_minute  prep_time  \n",
       "0                         45.0       15.0  \n",
       "1                         50.0        5.0  \n",
       "2                         45.0       15.0  \n",
       "3                         10.0       10.0  \n",
       "4                         45.0       15.0  \n",
       "...                        ...        ...  \n",
       "45588                     45.0       10.0  \n",
       "45589                     10.0       15.0  \n",
       "45590                      5.0       15.0  \n",
       "45591                     40.0        5.0  \n",
       "45592                     15.0        5.0  \n",
       "\n",
       "[37371 rows x 28 columns]"
      ]
     },
     "execution_count": 61,
     "metadata": {},
     "output_type": "execute_result"
    }
   ],
   "source": [
    "df.dropna(subset = ['City'])"
   ]
  },
  {
   "cell_type": "code",
   "execution_count": 62,
   "id": "8a165696",
   "metadata": {},
   "outputs": [
    {
     "data": {
      "text/plain": [
       "<AxesSubplot:xlabel='City', ylabel='Time_taken(min)'>"
      ]
     },
     "execution_count": 62,
     "metadata": {},
     "output_type": "execute_result"
    },
    {
     "data": {
      "image/png": "[encoded data removed]",
      "text/plain": [
       "<Figure size 432x288 with 1 Axes>"
      ]
     },
     "metadata": {
      "needs_background": "light"
     },
     "output_type": "display_data"
    }
   ],
   "source": [
    "sns.boxplot(data=df, x='City', y='Time_taken(min)', width=0.7)"
   ]
  },
  {
   "cell_type": "markdown",
   "id": "3ebc036c",
   "metadata": {},
   "source": [
    "# Festival "
   ]
  },
  {
   "cell_type": "code",
   "execution_count": 63,
   "id": "41224353",
   "metadata": {},
   "outputs": [
    {
     "data": {
      "text/plain": [
       "Festival\n",
       "No      38001\n",
       "Yes       298\n",
       "Name: Festival, dtype: int64"
      ]
     },
     "execution_count": 63,
     "metadata": {},
     "output_type": "execute_result"
    }
   ],
   "source": [
    "df.groupby('Festival')['Festival'].aggregate('count')"
   ]
  },
  {
   "cell_type": "code",
   "execution_count": 64,
   "id": "07ca7643",
   "metadata": {},
   "outputs": [
    {
     "data": {
      "text/plain": [
       "14"
      ]
     },
     "execution_count": 64,
     "metadata": {},
     "output_type": "execute_result"
    }
   ],
   "source": [
    "df['Festival'].isnull().sum()"
   ]
  },
  {
   "cell_type": "code",
   "execution_count": 65,
   "id": "fc39f3e9",
   "metadata": {},
   "outputs": [
    {
     "data": {
      "text/html": [
       "<div>\n",
       "<style scoped>\n",
       "    .dataframe tbody tr th:only-of-type {\n",
       "        vertical-align: middle;\n",
       "    }\n",
       "\n",
       "    .dataframe tbody tr th {\n",
       "        vertical-align: top;\n",
       "    }\n",
       "\n",
       "    .dataframe thead th {\n",
       "        text-align: right;\n",
       "    }\n",
       "</style>\n",
       "<table border=\"1\" class=\"dataframe\">\n",
       "  <thead>\n",
       "    <tr style=\"text-align: right;\">\n",
       "      <th></th>\n",
       "      <th>ID</th>\n",
       "      <th>Delivery_person_ID</th>\n",
       "      <th>Delivery_person_Age</th>\n",
       "      <th>Delivery_person_Ratings</th>\n",
       "      <th>Restaurant_latitude</th>\n",
       "      <th>Restaurant_longitude</th>\n",
       "      <th>Delivery_location_latitude</th>\n",
       "      <th>Delivery_location_longitude</th>\n",
       "      <th>Order_Date</th>\n",
       "      <th>Time_Ordered</th>\n",
       "      <th>...</th>\n",
       "      <th>City</th>\n",
       "      <th>Time_taken(min)</th>\n",
       "      <th>day</th>\n",
       "      <th>month</th>\n",
       "      <th>year</th>\n",
       "      <th>Time_Ordered_hour</th>\n",
       "      <th>Time_Ordered_minute</th>\n",
       "      <th>Time_Order_picked_hour</th>\n",
       "      <th>Time_Order_picked_minute</th>\n",
       "      <th>prep_time</th>\n",
       "    </tr>\n",
       "  </thead>\n",
       "  <tbody>\n",
       "    <tr>\n",
       "      <th>0</th>\n",
       "      <td>0x4607</td>\n",
       "      <td>INDORES13DEL02</td>\n",
       "      <td>37.0</td>\n",
       "      <td>4.9</td>\n",
       "      <td>22.745049</td>\n",
       "      <td>75.892471</td>\n",
       "      <td>22.765049</td>\n",
       "      <td>75.912471</td>\n",
       "      <td>2022-03-19</td>\n",
       "      <td>11:30:00</td>\n",
       "      <td>...</td>\n",
       "      <td>Urban</td>\n",
       "      <td>24</td>\n",
       "      <td>19</td>\n",
       "      <td>3</td>\n",
       "      <td>2022</td>\n",
       "      <td>11.0</td>\n",
       "      <td>30.0</td>\n",
       "      <td>11.0</td>\n",
       "      <td>45.0</td>\n",
       "      <td>15.0</td>\n",
       "    </tr>\n",
       "    <tr>\n",
       "      <th>1</th>\n",
       "      <td>0xb379</td>\n",
       "      <td>BANGRES18DEL02</td>\n",
       "      <td>34.0</td>\n",
       "      <td>4.5</td>\n",
       "      <td>12.913041</td>\n",
       "      <td>77.683237</td>\n",
       "      <td>13.043041</td>\n",
       "      <td>77.813237</td>\n",
       "      <td>2022-03-25</td>\n",
       "      <td>19:45:00</td>\n",
       "      <td>...</td>\n",
       "      <td>Metropolitian</td>\n",
       "      <td>33</td>\n",
       "      <td>25</td>\n",
       "      <td>3</td>\n",
       "      <td>2022</td>\n",
       "      <td>19.0</td>\n",
       "      <td>45.0</td>\n",
       "      <td>19.0</td>\n",
       "      <td>50.0</td>\n",
       "      <td>5.0</td>\n",
       "    </tr>\n",
       "    <tr>\n",
       "      <th>2</th>\n",
       "      <td>0x5d6d</td>\n",
       "      <td>BANGRES19DEL01</td>\n",
       "      <td>23.0</td>\n",
       "      <td>4.4</td>\n",
       "      <td>12.914264</td>\n",
       "      <td>77.678400</td>\n",
       "      <td>12.924264</td>\n",
       "      <td>77.688400</td>\n",
       "      <td>2022-03-19</td>\n",
       "      <td>8:30:00</td>\n",
       "      <td>...</td>\n",
       "      <td>Urban</td>\n",
       "      <td>26</td>\n",
       "      <td>19</td>\n",
       "      <td>3</td>\n",
       "      <td>2022</td>\n",
       "      <td>8.0</td>\n",
       "      <td>30.0</td>\n",
       "      <td>8.0</td>\n",
       "      <td>45.0</td>\n",
       "      <td>15.0</td>\n",
       "    </tr>\n",
       "    <tr>\n",
       "      <th>3</th>\n",
       "      <td>0x7a6a</td>\n",
       "      <td>COIMBRES13DEL02</td>\n",
       "      <td>38.0</td>\n",
       "      <td>4.7</td>\n",
       "      <td>11.003669</td>\n",
       "      <td>76.976494</td>\n",
       "      <td>11.053669</td>\n",
       "      <td>77.026494</td>\n",
       "      <td>2022-05-04</td>\n",
       "      <td>18:00:00</td>\n",
       "      <td>...</td>\n",
       "      <td>Metropolitian</td>\n",
       "      <td>21</td>\n",
       "      <td>4</td>\n",
       "      <td>5</td>\n",
       "      <td>2022</td>\n",
       "      <td>18.0</td>\n",
       "      <td>0.0</td>\n",
       "      <td>18.0</td>\n",
       "      <td>10.0</td>\n",
       "      <td>10.0</td>\n",
       "    </tr>\n",
       "    <tr>\n",
       "      <th>4</th>\n",
       "      <td>0x70a2</td>\n",
       "      <td>CHENRES12DEL01</td>\n",
       "      <td>32.0</td>\n",
       "      <td>4.6</td>\n",
       "      <td>12.972793</td>\n",
       "      <td>80.249982</td>\n",
       "      <td>13.012793</td>\n",
       "      <td>80.289982</td>\n",
       "      <td>2022-03-26</td>\n",
       "      <td>13:30:00</td>\n",
       "      <td>...</td>\n",
       "      <td>Metropolitian</td>\n",
       "      <td>30</td>\n",
       "      <td>26</td>\n",
       "      <td>3</td>\n",
       "      <td>2022</td>\n",
       "      <td>13.0</td>\n",
       "      <td>30.0</td>\n",
       "      <td>13.0</td>\n",
       "      <td>45.0</td>\n",
       "      <td>15.0</td>\n",
       "    </tr>\n",
       "    <tr>\n",
       "      <th>...</th>\n",
       "      <td>...</td>\n",
       "      <td>...</td>\n",
       "      <td>...</td>\n",
       "      <td>...</td>\n",
       "      <td>...</td>\n",
       "      <td>...</td>\n",
       "      <td>...</td>\n",
       "      <td>...</td>\n",
       "      <td>...</td>\n",
       "      <td>...</td>\n",
       "      <td>...</td>\n",
       "      <td>...</td>\n",
       "      <td>...</td>\n",
       "      <td>...</td>\n",
       "      <td>...</td>\n",
       "      <td>...</td>\n",
       "      <td>...</td>\n",
       "      <td>...</td>\n",
       "      <td>...</td>\n",
       "      <td>...</td>\n",
       "      <td>...</td>\n",
       "    </tr>\n",
       "    <tr>\n",
       "      <th>45588</th>\n",
       "      <td>0x7c09</td>\n",
       "      <td>JAPRES04DEL01</td>\n",
       "      <td>30.0</td>\n",
       "      <td>4.8</td>\n",
       "      <td>26.902328</td>\n",
       "      <td>75.794257</td>\n",
       "      <td>26.912328</td>\n",
       "      <td>75.804257</td>\n",
       "      <td>2022-03-24</td>\n",
       "      <td>11:35:00</td>\n",
       "      <td>...</td>\n",
       "      <td>Metropolitian</td>\n",
       "      <td>32</td>\n",
       "      <td>24</td>\n",
       "      <td>3</td>\n",
       "      <td>2022</td>\n",
       "      <td>11.0</td>\n",
       "      <td>35.0</td>\n",
       "      <td>11.0</td>\n",
       "      <td>45.0</td>\n",
       "      <td>10.0</td>\n",
       "    </tr>\n",
       "    <tr>\n",
       "      <th>45589</th>\n",
       "      <td>0xd641</td>\n",
       "      <td>AGRRES16DEL01</td>\n",
       "      <td>21.0</td>\n",
       "      <td>4.6</td>\n",
       "      <td>0.000000</td>\n",
       "      <td>0.000000</td>\n",
       "      <td>0.070000</td>\n",
       "      <td>0.070000</td>\n",
       "      <td>2022-02-16</td>\n",
       "      <td>19:55:00</td>\n",
       "      <td>...</td>\n",
       "      <td>Metropolitian</td>\n",
       "      <td>36</td>\n",
       "      <td>16</td>\n",
       "      <td>2</td>\n",
       "      <td>2022</td>\n",
       "      <td>19.0</td>\n",
       "      <td>55.0</td>\n",
       "      <td>20.0</td>\n",
       "      <td>10.0</td>\n",
       "      <td>15.0</td>\n",
       "    </tr>\n",
       "    <tr>\n",
       "      <th>45590</th>\n",
       "      <td>0x4f8d</td>\n",
       "      <td>CHENRES08DEL03</td>\n",
       "      <td>30.0</td>\n",
       "      <td>4.9</td>\n",
       "      <td>13.022394</td>\n",
       "      <td>80.242439</td>\n",
       "      <td>13.052394</td>\n",
       "      <td>80.272439</td>\n",
       "      <td>2022-11-03</td>\n",
       "      <td>23:50:00</td>\n",
       "      <td>...</td>\n",
       "      <td>Metropolitian</td>\n",
       "      <td>16</td>\n",
       "      <td>3</td>\n",
       "      <td>11</td>\n",
       "      <td>2022</td>\n",
       "      <td>23.0</td>\n",
       "      <td>50.0</td>\n",
       "      <td>0.0</td>\n",
       "      <td>5.0</td>\n",
       "      <td>15.0</td>\n",
       "    </tr>\n",
       "    <tr>\n",
       "      <th>45591</th>\n",
       "      <td>0x5eee</td>\n",
       "      <td>COIMBRES11DEL01</td>\n",
       "      <td>20.0</td>\n",
       "      <td>4.7</td>\n",
       "      <td>11.001753</td>\n",
       "      <td>76.986241</td>\n",
       "      <td>11.041753</td>\n",
       "      <td>77.026241</td>\n",
       "      <td>2022-07-03</td>\n",
       "      <td>13:35:00</td>\n",
       "      <td>...</td>\n",
       "      <td>Metropolitian</td>\n",
       "      <td>26</td>\n",
       "      <td>3</td>\n",
       "      <td>7</td>\n",
       "      <td>2022</td>\n",
       "      <td>13.0</td>\n",
       "      <td>35.0</td>\n",
       "      <td>13.0</td>\n",
       "      <td>40.0</td>\n",
       "      <td>5.0</td>\n",
       "    </tr>\n",
       "    <tr>\n",
       "      <th>45592</th>\n",
       "      <td>0x5fb2</td>\n",
       "      <td>RANCHIRES09DEL02</td>\n",
       "      <td>23.0</td>\n",
       "      <td>4.9</td>\n",
       "      <td>23.351058</td>\n",
       "      <td>85.325731</td>\n",
       "      <td>23.431058</td>\n",
       "      <td>85.405731</td>\n",
       "      <td>2022-02-03</td>\n",
       "      <td>17:10:00</td>\n",
       "      <td>...</td>\n",
       "      <td>Metropolitian</td>\n",
       "      <td>36</td>\n",
       "      <td>3</td>\n",
       "      <td>2</td>\n",
       "      <td>2022</td>\n",
       "      <td>17.0</td>\n",
       "      <td>10.0</td>\n",
       "      <td>17.0</td>\n",
       "      <td>15.0</td>\n",
       "      <td>5.0</td>\n",
       "    </tr>\n",
       "  </tbody>\n",
       "</table>\n",
       "<p>38299 rows × 28 columns</p>\n",
       "</div>"
      ],
      "text/plain": [
       "            ID Delivery_person_ID  Delivery_person_Age  \\\n",
       "0      0x4607     INDORES13DEL02                  37.0   \n",
       "1      0xb379     BANGRES18DEL02                  34.0   \n",
       "2      0x5d6d     BANGRES19DEL01                  23.0   \n",
       "3      0x7a6a    COIMBRES13DEL02                  38.0   \n",
       "4      0x70a2     CHENRES12DEL01                  32.0   \n",
       "...        ...                ...                  ...   \n",
       "45588  0x7c09      JAPRES04DEL01                  30.0   \n",
       "45589  0xd641      AGRRES16DEL01                  21.0   \n",
       "45590  0x4f8d     CHENRES08DEL03                  30.0   \n",
       "45591  0x5eee    COIMBRES11DEL01                  20.0   \n",
       "45592  0x5fb2   RANCHIRES09DEL02                  23.0   \n",
       "\n",
       "       Delivery_person_Ratings  Restaurant_latitude  Restaurant_longitude  \\\n",
       "0                          4.9            22.745049             75.892471   \n",
       "1                          4.5            12.913041             77.683237   \n",
       "2                          4.4            12.914264             77.678400   \n",
       "3                          4.7            11.003669             76.976494   \n",
       "4                          4.6            12.972793             80.249982   \n",
       "...                        ...                  ...                   ...   \n",
       "45588                      4.8            26.902328             75.794257   \n",
       "45589                      4.6             0.000000              0.000000   \n",
       "45590                      4.9            13.022394             80.242439   \n",
       "45591                      4.7            11.001753             76.986241   \n",
       "45592                      4.9            23.351058             85.325731   \n",
       "\n",
       "       Delivery_location_latitude  Delivery_location_longitude Order_Date  \\\n",
       "0                       22.765049                    75.912471 2022-03-19   \n",
       "1                       13.043041                    77.813237 2022-03-25   \n",
       "2                       12.924264                    77.688400 2022-03-19   \n",
       "3                       11.053669                    77.026494 2022-05-04   \n",
       "4                       13.012793                    80.289982 2022-03-26   \n",
       "...                           ...                          ...        ...   \n",
       "45588                   26.912328                    75.804257 2022-03-24   \n",
       "45589                    0.070000                     0.070000 2022-02-16   \n",
       "45590                   13.052394                    80.272439 2022-11-03   \n",
       "45591                   11.041753                    77.026241 2022-07-03   \n",
       "45592                   23.431058                    85.405731 2022-02-03   \n",
       "\n",
       "      Time_Ordered  ...            City Time_taken(min) day  month  year  \\\n",
       "0         11:30:00  ...          Urban               24  19      3  2022   \n",
       "1         19:45:00  ...  Metropolitian               33  25      3  2022   \n",
       "2          8:30:00  ...          Urban               26  19      3  2022   \n",
       "3         18:00:00  ...  Metropolitian               21   4      5  2022   \n",
       "4         13:30:00  ...  Metropolitian               30  26      3  2022   \n",
       "...            ...  ...             ...             ...  ..    ...   ...   \n",
       "45588     11:35:00  ...  Metropolitian               32  24      3  2022   \n",
       "45589     19:55:00  ...  Metropolitian               36  16      2  2022   \n",
       "45590     23:50:00  ...  Metropolitian               16   3     11  2022   \n",
       "45591     13:35:00  ...  Metropolitian               26   3      7  2022   \n",
       "45592     17:10:00  ...  Metropolitian               36   3      2  2022   \n",
       "\n",
       "      Time_Ordered_hour  Time_Ordered_minute Time_Order_picked_hour  \\\n",
       "0                  11.0                 30.0                   11.0   \n",
       "1                  19.0                 45.0                   19.0   \n",
       "2                   8.0                 30.0                    8.0   \n",
       "3                  18.0                  0.0                   18.0   \n",
       "4                  13.0                 30.0                   13.0   \n",
       "...                 ...                  ...                    ...   \n",
       "45588              11.0                 35.0                   11.0   \n",
       "45589              19.0                 55.0                   20.0   \n",
       "45590              23.0                 50.0                    0.0   \n",
       "45591              13.0                 35.0                   13.0   \n",
       "45592              17.0                 10.0                   17.0   \n",
       "\n",
       "      Time_Order_picked_minute  prep_time  \n",
       "0                         45.0       15.0  \n",
       "1                         50.0        5.0  \n",
       "2                         45.0       15.0  \n",
       "3                         10.0       10.0  \n",
       "4                         45.0       15.0  \n",
       "...                        ...        ...  \n",
       "45588                     45.0       10.0  \n",
       "45589                     10.0       15.0  \n",
       "45590                      5.0       15.0  \n",
       "45591                     40.0        5.0  \n",
       "45592                     15.0        5.0  \n",
       "\n",
       "[38299 rows x 28 columns]"
      ]
     },
     "execution_count": 65,
     "metadata": {},
     "output_type": "execute_result"
    }
   ],
   "source": [
    "df.dropna(subset = ['Festival'])"
   ]
  },
  {
   "cell_type": "code",
   "execution_count": 66,
   "id": "35742fd6",
   "metadata": {},
   "outputs": [
    {
     "data": {
      "text/plain": [
       "<AxesSubplot:xlabel='Festival', ylabel='Time_taken(min)'>"
      ]
     },
     "execution_count": 66,
     "metadata": {},
     "output_type": "execute_result"
    },
    {
     "data": {
      "image/png": "[encoded data removed]",
      "text/plain": [
       "<Figure size 432x288 with 1 Axes>"
      ]
     },
     "metadata": {
      "needs_background": "light"
     },
     "output_type": "display_data"
    }
   ],
   "source": [
    "sns.boxplot(data=df, x='Festival', y='Time_taken(min)', width=0.7)"
   ]
  },
  {
   "cell_type": "markdown",
   "id": "d3ae92c7",
   "metadata": {},
   "source": [
    "# Label Encoding"
   ]
  },
  {
   "cell_type": "code",
   "execution_count": 67,
   "id": "6fea8c44",
   "metadata": {},
   "outputs": [],
   "source": [
    "from sklearn.preprocessing import LabelEncoder\n",
    "labelencoder=LabelEncoder()"
   ]
  },
  {
   "cell_type": "code",
   "execution_count": 68,
   "id": "2971d0a4",
   "metadata": {},
   "outputs": [],
   "source": [
    "df[\"Weatherconditions\"]=labelencoder.fit_transform(df[\"Weatherconditions\"])\n",
    "df[\"Delivery_person_ID\"]=labelencoder.fit_transform(df[\"Delivery_person_ID\"])\n",
    "df[\"ID\"]=labelencoder.fit_transform(df[\"ID\"])\n",
    "df[\"Road_traffic_density\"]=labelencoder.fit_transform(df['Road_traffic_density'])\n",
    "df[\"Type_of_order\"]=labelencoder.fit_transform(df[\"Type_of_order\"])\n",
    "df[\"Type_of_vehicle\"]=labelencoder.fit_transform(df[\"Type_of_vehicle\"])\n",
    "df[\"City\"]=labelencoder.fit_transform(df[\"City\"])\n",
    "df[\"Festival\"]=labelencoder.fit_transform(df[\"Festival\"])"
   ]
  },
  {
   "cell_type": "code",
   "execution_count": 69,
   "id": "feed98ea",
   "metadata": {},
   "outputs": [
    {
     "data": {
      "text/html": [
       "<div>\n",
       "<style scoped>\n",
       "    .dataframe tbody tr th:only-of-type {\n",
       "        vertical-align: middle;\n",
       "    }\n",
       "\n",
       "    .dataframe tbody tr th {\n",
       "        vertical-align: top;\n",
       "    }\n",
       "\n",
       "    .dataframe thead th {\n",
       "        text-align: right;\n",
       "    }\n",
       "</style>\n",
       "<table border=\"1\" class=\"dataframe\">\n",
       "  <thead>\n",
       "    <tr style=\"text-align: right;\">\n",
       "      <th></th>\n",
       "      <th>ID</th>\n",
       "      <th>Delivery_person_ID</th>\n",
       "      <th>Delivery_person_Age</th>\n",
       "      <th>Delivery_person_Ratings</th>\n",
       "      <th>Restaurant_latitude</th>\n",
       "      <th>Restaurant_longitude</th>\n",
       "      <th>Delivery_location_latitude</th>\n",
       "      <th>Delivery_location_longitude</th>\n",
       "      <th>Order_Date</th>\n",
       "      <th>Time_Ordered</th>\n",
       "      <th>...</th>\n",
       "      <th>City</th>\n",
       "      <th>Time_taken(min)</th>\n",
       "      <th>day</th>\n",
       "      <th>month</th>\n",
       "      <th>year</th>\n",
       "      <th>Time_Ordered_hour</th>\n",
       "      <th>Time_Ordered_minute</th>\n",
       "      <th>Time_Order_picked_hour</th>\n",
       "      <th>Time_Order_picked_minute</th>\n",
       "      <th>prep_time</th>\n",
       "    </tr>\n",
       "  </thead>\n",
       "  <tbody>\n",
       "    <tr>\n",
       "      <th>0</th>\n",
       "      <td>9359</td>\n",
       "      <td>637</td>\n",
       "      <td>37.0</td>\n",
       "      <td>4.9</td>\n",
       "      <td>22.745049</td>\n",
       "      <td>75.892471</td>\n",
       "      <td>22.765049</td>\n",
       "      <td>75.912471</td>\n",
       "      <td>2022-03-19</td>\n",
       "      <td>11:30:00</td>\n",
       "      <td>...</td>\n",
       "      <td>1</td>\n",
       "      <td>24</td>\n",
       "      <td>19</td>\n",
       "      <td>3</td>\n",
       "      <td>2022</td>\n",
       "      <td>11.0</td>\n",
       "      <td>30.0</td>\n",
       "      <td>11.0</td>\n",
       "      <td>45.0</td>\n",
       "      <td>15.0</td>\n",
       "    </tr>\n",
       "    <tr>\n",
       "      <th>1</th>\n",
       "      <td>29445</td>\n",
       "      <td>232</td>\n",
       "      <td>34.0</td>\n",
       "      <td>4.5</td>\n",
       "      <td>12.913041</td>\n",
       "      <td>77.683237</td>\n",
       "      <td>13.043041</td>\n",
       "      <td>77.813237</td>\n",
       "      <td>2022-03-25</td>\n",
       "      <td>19:45:00</td>\n",
       "      <td>...</td>\n",
       "      <td>0</td>\n",
       "      <td>33</td>\n",
       "      <td>25</td>\n",
       "      <td>3</td>\n",
       "      <td>2022</td>\n",
       "      <td>19.0</td>\n",
       "      <td>45.0</td>\n",
       "      <td>19.0</td>\n",
       "      <td>50.0</td>\n",
       "      <td>5.0</td>\n",
       "    </tr>\n",
       "    <tr>\n",
       "      <th>2</th>\n",
       "      <td>13612</td>\n",
       "      <td>234</td>\n",
       "      <td>23.0</td>\n",
       "      <td>4.4</td>\n",
       "      <td>12.914264</td>\n",
       "      <td>77.678400</td>\n",
       "      <td>12.924264</td>\n",
       "      <td>77.688400</td>\n",
       "      <td>2022-03-19</td>\n",
       "      <td>8:30:00</td>\n",
       "      <td>...</td>\n",
       "      <td>1</td>\n",
       "      <td>26</td>\n",
       "      <td>19</td>\n",
       "      <td>3</td>\n",
       "      <td>2022</td>\n",
       "      <td>8.0</td>\n",
       "      <td>30.0</td>\n",
       "      <td>8.0</td>\n",
       "      <td>45.0</td>\n",
       "      <td>15.0</td>\n",
       "    </tr>\n",
       "    <tr>\n",
       "      <th>3</th>\n",
       "      <td>18849</td>\n",
       "      <td>397</td>\n",
       "      <td>38.0</td>\n",
       "      <td>4.7</td>\n",
       "      <td>11.003669</td>\n",
       "      <td>76.976494</td>\n",
       "      <td>11.053669</td>\n",
       "      <td>77.026494</td>\n",
       "      <td>2022-05-04</td>\n",
       "      <td>18:00:00</td>\n",
       "      <td>...</td>\n",
       "      <td>0</td>\n",
       "      <td>21</td>\n",
       "      <td>4</td>\n",
       "      <td>5</td>\n",
       "      <td>2022</td>\n",
       "      <td>18.0</td>\n",
       "      <td>0.0</td>\n",
       "      <td>18.0</td>\n",
       "      <td>10.0</td>\n",
       "      <td>10.0</td>\n",
       "    </tr>\n",
       "    <tr>\n",
       "      <th>4</th>\n",
       "      <td>17051</td>\n",
       "      <td>333</td>\n",
       "      <td>32.0</td>\n",
       "      <td>4.6</td>\n",
       "      <td>12.972793</td>\n",
       "      <td>80.249982</td>\n",
       "      <td>13.012793</td>\n",
       "      <td>80.289982</td>\n",
       "      <td>2022-03-26</td>\n",
       "      <td>13:30:00</td>\n",
       "      <td>...</td>\n",
       "      <td>0</td>\n",
       "      <td>30</td>\n",
       "      <td>26</td>\n",
       "      <td>3</td>\n",
       "      <td>2022</td>\n",
       "      <td>13.0</td>\n",
       "      <td>30.0</td>\n",
       "      <td>13.0</td>\n",
       "      <td>45.0</td>\n",
       "      <td>15.0</td>\n",
       "    </tr>\n",
       "  </tbody>\n",
       "</table>\n",
       "<p>5 rows × 28 columns</p>\n",
       "</div>"
      ],
      "text/plain": [
       "      ID  Delivery_person_ID  Delivery_person_Age  Delivery_person_Ratings  \\\n",
       "0   9359                 637                 37.0                      4.9   \n",
       "1  29445                 232                 34.0                      4.5   \n",
       "2  13612                 234                 23.0                      4.4   \n",
       "3  18849                 397                 38.0                      4.7   \n",
       "4  17051                 333                 32.0                      4.6   \n",
       "\n",
       "   Restaurant_latitude  Restaurant_longitude  Delivery_location_latitude  \\\n",
       "0            22.745049             75.892471                   22.765049   \n",
       "1            12.913041             77.683237                   13.043041   \n",
       "2            12.914264             77.678400                   12.924264   \n",
       "3            11.003669             76.976494                   11.053669   \n",
       "4            12.972793             80.249982                   13.012793   \n",
       "\n",
       "   Delivery_location_longitude Order_Date Time_Ordered  ... City  \\\n",
       "0                    75.912471 2022-03-19     11:30:00  ...    1   \n",
       "1                    77.813237 2022-03-25     19:45:00  ...    0   \n",
       "2                    77.688400 2022-03-19      8:30:00  ...    1   \n",
       "3                    77.026494 2022-05-04     18:00:00  ...    0   \n",
       "4                    80.289982 2022-03-26     13:30:00  ...    0   \n",
       "\n",
       "   Time_taken(min)  day  month  year  Time_Ordered_hour  Time_Ordered_minute  \\\n",
       "0               24   19      3  2022               11.0                 30.0   \n",
       "1               33   25      3  2022               19.0                 45.0   \n",
       "2               26   19      3  2022                8.0                 30.0   \n",
       "3               21    4      5  2022               18.0                  0.0   \n",
       "4               30   26      3  2022               13.0                 30.0   \n",
       "\n",
       "   Time_Order_picked_hour  Time_Order_picked_minute  prep_time  \n",
       "0                    11.0                      45.0       15.0  \n",
       "1                    19.0                      50.0        5.0  \n",
       "2                     8.0                      45.0       15.0  \n",
       "3                    18.0                      10.0       10.0  \n",
       "4                    13.0                      45.0       15.0  \n",
       "\n",
       "[5 rows x 28 columns]"
      ]
     },
     "execution_count": 69,
     "metadata": {},
     "output_type": "execute_result"
    }
   ],
   "source": [
    "df.head()"
   ]
  },
  {
   "cell_type": "code",
   "execution_count": 70,
   "id": "8d1c3f57",
   "metadata": {},
   "outputs": [
    {
     "data": {
      "text/plain": [
       "ID                             0\n",
       "Delivery_person_ID             0\n",
       "Delivery_person_Age            0\n",
       "Delivery_person_Ratings        0\n",
       "Restaurant_latitude            0\n",
       "Restaurant_longitude           0\n",
       "Delivery_location_latitude     0\n",
       "Delivery_location_longitude    0\n",
       "Order_Date                     0\n",
       "Time_Ordered                   0\n",
       "Time_Order_picked              0\n",
       "Weatherconditions              0\n",
       "Road_traffic_density           0\n",
       "Vehicle_condition              0\n",
       "Type_of_order                  0\n",
       "Type_of_vehicle                0\n",
       "multiple_deliveries            0\n",
       "Festival                       0\n",
       "City                           0\n",
       "Time_taken(min)                0\n",
       "day                            0\n",
       "month                          0\n",
       "year                           0\n",
       "Time_Ordered_hour              0\n",
       "Time_Ordered_minute            0\n",
       "Time_Order_picked_hour         0\n",
       "Time_Order_picked_minute       0\n",
       "prep_time                      0\n",
       "dtype: int64"
      ]
     },
     "execution_count": 70,
     "metadata": {},
     "output_type": "execute_result"
    }
   ],
   "source": [
    "df.isnull().sum()"
   ]
  },
  {
   "cell_type": "code",
   "execution_count": 71,
   "id": "11e3991c",
   "metadata": {},
   "outputs": [],
   "source": [
    "#df['Time_Ordered']= df['Time_Ordered'].astype('float64')\n",
    "#df['Time_Order_picked']= df['Time_Order_picked'].astype('float64')\n",
    "df['multiple_deliveries']= df['multiple_deliveries'].astype('float64')\n",
    "df['Time_taken(min)']= df['Time_taken(min)'].astype('float64')"
   ]
  },
  {
   "cell_type": "markdown",
   "id": "bfc59e1e",
   "metadata": {},
   "source": [
    "# Distance Calculation"
   ]
  },
  {
   "cell_type": "code",
   "execution_count": 72,
   "id": "d07e9580",
   "metadata": {},
   "outputs": [],
   "source": [
    "from math import sin, cos, sqrt, atan2, radians\n",
    "\n",
    "# approximate radius of earth in mile\n",
    "R = 3950 \n",
    "def distance_calculator(lat1,lon1,lat2,lon2):\n",
    "    lat1 = radians(lat1)\n",
    "    lon1 = radians(lon1)\n",
    "    lat2 = radians(lat2)\n",
    "    lon2 = radians(lon2)\n",
    "    dlon = lon2 - lon1\n",
    "    dlat = lat2 - lat1\n",
    "    a = sin(dlat / 2)**2 + cos(lat1) * cos(lat2) * sin(dlon / 2)**2\n",
    "    c = 2 * atan2(sqrt(a), sqrt(1 - a))\n",
    "    distance = R * c\n",
    "    return(distance)"
   ]
  },
  {
   "cell_type": "code",
   "execution_count": 73,
   "id": "ed8d9464",
   "metadata": {},
   "outputs": [],
   "source": [
    "dist=[]\n",
    "for i in range(len(df)):\n",
    "    dist.append(distance_calculator(df[\"Restaurant_latitude\"].iloc[i],df[\"Restaurant_longitude\"].iloc[i],df[\"Delivery_location_latitude\"].iloc[i],df[\"Delivery_location_longitude\"].iloc[i]))"
   ]
  },
  {
   "cell_type": "code",
   "execution_count": 74,
   "id": "ffeba926",
   "metadata": {},
   "outputs": [
    {
     "data": {
      "text/plain": [
       "0     1.875583\n",
       "1    12.513725\n",
       "2     0.962705\n",
       "3     4.830024\n",
       "4     3.850266\n",
       "Name: Distance, dtype: float64"
      ]
     },
     "execution_count": 74,
     "metadata": {},
     "output_type": "execute_result"
    }
   ],
   "source": [
    "df['Distance']=dist\n",
    "df['Distance'].head()"
   ]
  },
  {
   "cell_type": "code",
   "execution_count": 75,
   "id": "929f1634",
   "metadata": {},
   "outputs": [],
   "source": [
    "df=df.drop([\"Restaurant_latitude\",\"Restaurant_longitude\",\"Delivery_location_latitude\",\"Delivery_location_longitude\"], axis='columns')\n"
   ]
  },
  {
   "cell_type": "code",
   "execution_count": 76,
   "id": "ea154769",
   "metadata": {},
   "outputs": [
    {
     "data": {
      "text/plain": [
       "0.9083371920675309"
      ]
     },
     "execution_count": 76,
     "metadata": {},
     "output_type": "execute_result"
    }
   ],
   "source": [
    "df['Distance'].min()"
   ]
  },
  {
   "cell_type": "code",
   "execution_count": 77,
   "id": "960494a5",
   "metadata": {},
   "outputs": [
    {
     "data": {
      "text/plain": [
       "4268.508754636101"
      ]
     },
     "execution_count": 77,
     "metadata": {},
     "output_type": "execute_result"
    }
   ],
   "source": [
    "df['Distance'].max()"
   ]
  },
  {
   "cell_type": "code",
   "execution_count": 78,
   "id": "81aa487b",
   "metadata": {},
   "outputs": [],
   "source": [
    "max_quantile= df['Distance'].quantile(0.98)\n",
    "min_quantile=df['Distance'].quantile(0.05)\n",
    "df=df[(df['Distance']<max_quantile) & (df['Distance']>min_quantile)]"
   ]
  },
  {
   "cell_type": "code",
   "execution_count": 79,
   "id": "0d82e03a",
   "metadata": {},
   "outputs": [
    {
     "data": {
      "text/plain": [
       "0.9528060727436715"
      ]
     },
     "execution_count": 79,
     "metadata": {},
     "output_type": "execute_result"
    }
   ],
   "source": [
    "df['Distance'].min()"
   ]
  },
  {
   "cell_type": "code",
   "execution_count": 80,
   "id": "cd5ad850",
   "metadata": {},
   "outputs": [
    {
     "data": {
      "text/plain": [
       "12.578224679806413"
      ]
     },
     "execution_count": 80,
     "metadata": {},
     "output_type": "execute_result"
    }
   ],
   "source": [
    "df['Distance'].max()"
   ]
  },
  {
   "cell_type": "code",
   "execution_count": 81,
   "id": "fe1d07e8",
   "metadata": {},
   "outputs": [
    {
     "data": {
      "text/plain": [
       "(35504, 25)"
      ]
     },
     "execution_count": 81,
     "metadata": {},
     "output_type": "execute_result"
    }
   ],
   "source": [
    "df.shape"
   ]
  },
  {
   "cell_type": "code",
   "execution_count": 82,
   "id": "4eac793e",
   "metadata": {},
   "outputs": [
    {
     "data": {
      "text/html": [
       "<div>\n",
       "<style scoped>\n",
       "    .dataframe tbody tr th:only-of-type {\n",
       "        vertical-align: middle;\n",
       "    }\n",
       "\n",
       "    .dataframe tbody tr th {\n",
       "        vertical-align: top;\n",
       "    }\n",
       "\n",
       "    .dataframe thead th {\n",
       "        text-align: right;\n",
       "    }\n",
       "</style>\n",
       "<table border=\"1\" class=\"dataframe\">\n",
       "  <thead>\n",
       "    <tr style=\"text-align: right;\">\n",
       "      <th></th>\n",
       "      <th>ID</th>\n",
       "      <th>Delivery_person_ID</th>\n",
       "      <th>Delivery_person_Age</th>\n",
       "      <th>Delivery_person_Ratings</th>\n",
       "      <th>Order_Date</th>\n",
       "      <th>Time_Ordered</th>\n",
       "      <th>Time_Order_picked</th>\n",
       "      <th>Weatherconditions</th>\n",
       "      <th>Road_traffic_density</th>\n",
       "      <th>Vehicle_condition</th>\n",
       "      <th>...</th>\n",
       "      <th>Time_taken(min)</th>\n",
       "      <th>day</th>\n",
       "      <th>month</th>\n",
       "      <th>year</th>\n",
       "      <th>Time_Ordered_hour</th>\n",
       "      <th>Time_Ordered_minute</th>\n",
       "      <th>Time_Order_picked_hour</th>\n",
       "      <th>Time_Order_picked_minute</th>\n",
       "      <th>prep_time</th>\n",
       "      <th>Distance</th>\n",
       "    </tr>\n",
       "  </thead>\n",
       "  <tbody>\n",
       "    <tr>\n",
       "      <th>0</th>\n",
       "      <td>9359</td>\n",
       "      <td>637</td>\n",
       "      <td>37.0</td>\n",
       "      <td>4.9</td>\n",
       "      <td>2022-03-19</td>\n",
       "      <td>11:30:00</td>\n",
       "      <td>11:45:00</td>\n",
       "      <td>4</td>\n",
       "      <td>0</td>\n",
       "      <td>2</td>\n",
       "      <td>...</td>\n",
       "      <td>24.0</td>\n",
       "      <td>19</td>\n",
       "      <td>3</td>\n",
       "      <td>2022</td>\n",
       "      <td>11.0</td>\n",
       "      <td>30.0</td>\n",
       "      <td>11.0</td>\n",
       "      <td>45.0</td>\n",
       "      <td>15.0</td>\n",
       "      <td>1.875583</td>\n",
       "    </tr>\n",
       "    <tr>\n",
       "      <th>1</th>\n",
       "      <td>29445</td>\n",
       "      <td>232</td>\n",
       "      <td>34.0</td>\n",
       "      <td>4.5</td>\n",
       "      <td>2022-03-25</td>\n",
       "      <td>19:45:00</td>\n",
       "      <td>19:50:00</td>\n",
       "      <td>3</td>\n",
       "      <td>1</td>\n",
       "      <td>2</td>\n",
       "      <td>...</td>\n",
       "      <td>33.0</td>\n",
       "      <td>25</td>\n",
       "      <td>3</td>\n",
       "      <td>2022</td>\n",
       "      <td>19.0</td>\n",
       "      <td>45.0</td>\n",
       "      <td>19.0</td>\n",
       "      <td>50.0</td>\n",
       "      <td>5.0</td>\n",
       "      <td>12.513725</td>\n",
       "    </tr>\n",
       "    <tr>\n",
       "      <th>2</th>\n",
       "      <td>13612</td>\n",
       "      <td>234</td>\n",
       "      <td>23.0</td>\n",
       "      <td>4.4</td>\n",
       "      <td>2022-03-19</td>\n",
       "      <td>8:30:00</td>\n",
       "      <td>8:45:00</td>\n",
       "      <td>2</td>\n",
       "      <td>2</td>\n",
       "      <td>0</td>\n",
       "      <td>...</td>\n",
       "      <td>26.0</td>\n",
       "      <td>19</td>\n",
       "      <td>3</td>\n",
       "      <td>2022</td>\n",
       "      <td>8.0</td>\n",
       "      <td>30.0</td>\n",
       "      <td>8.0</td>\n",
       "      <td>45.0</td>\n",
       "      <td>15.0</td>\n",
       "      <td>0.962705</td>\n",
       "    </tr>\n",
       "    <tr>\n",
       "      <th>3</th>\n",
       "      <td>18849</td>\n",
       "      <td>397</td>\n",
       "      <td>38.0</td>\n",
       "      <td>4.7</td>\n",
       "      <td>2022-05-04</td>\n",
       "      <td>18:00:00</td>\n",
       "      <td>18:10:00</td>\n",
       "      <td>4</td>\n",
       "      <td>3</td>\n",
       "      <td>0</td>\n",
       "      <td>...</td>\n",
       "      <td>21.0</td>\n",
       "      <td>4</td>\n",
       "      <td>5</td>\n",
       "      <td>2022</td>\n",
       "      <td>18.0</td>\n",
       "      <td>0.0</td>\n",
       "      <td>18.0</td>\n",
       "      <td>10.0</td>\n",
       "      <td>10.0</td>\n",
       "      <td>4.830024</td>\n",
       "    </tr>\n",
       "    <tr>\n",
       "      <th>4</th>\n",
       "      <td>17051</td>\n",
       "      <td>333</td>\n",
       "      <td>32.0</td>\n",
       "      <td>4.6</td>\n",
       "      <td>2022-03-26</td>\n",
       "      <td>13:30:00</td>\n",
       "      <td>13:45:00</td>\n",
       "      <td>0</td>\n",
       "      <td>0</td>\n",
       "      <td>1</td>\n",
       "      <td>...</td>\n",
       "      <td>30.0</td>\n",
       "      <td>26</td>\n",
       "      <td>3</td>\n",
       "      <td>2022</td>\n",
       "      <td>13.0</td>\n",
       "      <td>30.0</td>\n",
       "      <td>13.0</td>\n",
       "      <td>45.0</td>\n",
       "      <td>15.0</td>\n",
       "      <td>3.850266</td>\n",
       "    </tr>\n",
       "  </tbody>\n",
       "</table>\n",
       "<p>5 rows × 25 columns</p>\n",
       "</div>"
      ],
      "text/plain": [
       "      ID  Delivery_person_ID  Delivery_person_Age  Delivery_person_Ratings  \\\n",
       "0   9359                 637                 37.0                      4.9   \n",
       "1  29445                 232                 34.0                      4.5   \n",
       "2  13612                 234                 23.0                      4.4   \n",
       "3  18849                 397                 38.0                      4.7   \n",
       "4  17051                 333                 32.0                      4.6   \n",
       "\n",
       "  Order_Date Time_Ordered Time_Order_picked  Weatherconditions  \\\n",
       "0 2022-03-19     11:30:00          11:45:00                  4   \n",
       "1 2022-03-25     19:45:00          19:50:00                  3   \n",
       "2 2022-03-19      8:30:00           8:45:00                  2   \n",
       "3 2022-05-04     18:00:00          18:10:00                  4   \n",
       "4 2022-03-26     13:30:00          13:45:00                  0   \n",
       "\n",
       "   Road_traffic_density  Vehicle_condition  ...  Time_taken(min)  day  month  \\\n",
       "0                     0                  2  ...             24.0   19      3   \n",
       "1                     1                  2  ...             33.0   25      3   \n",
       "2                     2                  0  ...             26.0   19      3   \n",
       "3                     3                  0  ...             21.0    4      5   \n",
       "4                     0                  1  ...             30.0   26      3   \n",
       "\n",
       "   year  Time_Ordered_hour  Time_Ordered_minute  Time_Order_picked_hour  \\\n",
       "0  2022               11.0                 30.0                    11.0   \n",
       "1  2022               19.0                 45.0                    19.0   \n",
       "2  2022                8.0                 30.0                     8.0   \n",
       "3  2022               18.0                  0.0                    18.0   \n",
       "4  2022               13.0                 30.0                    13.0   \n",
       "\n",
       "   Time_Order_picked_minute  prep_time   Distance  \n",
       "0                      45.0       15.0   1.875583  \n",
       "1                      50.0        5.0  12.513725  \n",
       "2                      45.0       15.0   0.962705  \n",
       "3                      10.0       10.0   4.830024  \n",
       "4                      45.0       15.0   3.850266  \n",
       "\n",
       "[5 rows x 25 columns]"
      ]
     },
     "execution_count": 82,
     "metadata": {},
     "output_type": "execute_result"
    }
   ],
   "source": [
    "df.head()"
   ]
  },
  {
   "cell_type": "markdown",
   "id": "fa1ceaec",
   "metadata": {},
   "source": [
    "# Modeling"
   ]
  },
  {
   "cell_type": "code",
   "execution_count": 83,
   "id": "c2fa1b92",
   "metadata": {},
   "outputs": [
    {
     "data": {
      "text/plain": [
       "16"
      ]
     },
     "execution_count": 83,
     "metadata": {},
     "output_type": "execute_result"
    }
   ],
   "source": [
    "X=df.drop(['Time_Order_picked','Time_Ordered','Type_of_vehicle','year','Time_taken(min)','Time_Ordered_minute','Time_Order_picked_hour','Time_Order_picked_minute','Order_Date'], axis='columns')\n",
    "len(X.axes[1])"
   ]
  },
  {
   "cell_type": "code",
   "execution_count": 84,
   "id": "ad26281b",
   "metadata": {},
   "outputs": [
    {
     "data": {
      "text/html": [
       "<div>\n",
       "<style scoped>\n",
       "    .dataframe tbody tr th:only-of-type {\n",
       "        vertical-align: middle;\n",
       "    }\n",
       "\n",
       "    .dataframe tbody tr th {\n",
       "        vertical-align: top;\n",
       "    }\n",
       "\n",
       "    .dataframe thead th {\n",
       "        text-align: right;\n",
       "    }\n",
       "</style>\n",
       "<table border=\"1\" class=\"dataframe\">\n",
       "  <thead>\n",
       "    <tr style=\"text-align: right;\">\n",
       "      <th></th>\n",
       "      <th>0</th>\n",
       "      <th>1</th>\n",
       "      <th>2</th>\n",
       "      <th>3</th>\n",
       "      <th>4</th>\n",
       "    </tr>\n",
       "  </thead>\n",
       "  <tbody>\n",
       "    <tr>\n",
       "      <th>ID</th>\n",
       "      <td>9359.000000</td>\n",
       "      <td>29445.000000</td>\n",
       "      <td>13612.000000</td>\n",
       "      <td>18849.000000</td>\n",
       "      <td>17051.000000</td>\n",
       "    </tr>\n",
       "    <tr>\n",
       "      <th>Delivery_person_ID</th>\n",
       "      <td>637.000000</td>\n",
       "      <td>232.000000</td>\n",
       "      <td>234.000000</td>\n",
       "      <td>397.000000</td>\n",
       "      <td>333.000000</td>\n",
       "    </tr>\n",
       "    <tr>\n",
       "      <th>Delivery_person_Age</th>\n",
       "      <td>37.000000</td>\n",
       "      <td>34.000000</td>\n",
       "      <td>23.000000</td>\n",
       "      <td>38.000000</td>\n",
       "      <td>32.000000</td>\n",
       "    </tr>\n",
       "    <tr>\n",
       "      <th>Delivery_person_Ratings</th>\n",
       "      <td>4.900000</td>\n",
       "      <td>4.500000</td>\n",
       "      <td>4.400000</td>\n",
       "      <td>4.700000</td>\n",
       "      <td>4.600000</td>\n",
       "    </tr>\n",
       "    <tr>\n",
       "      <th>Weatherconditions</th>\n",
       "      <td>4.000000</td>\n",
       "      <td>3.000000</td>\n",
       "      <td>2.000000</td>\n",
       "      <td>4.000000</td>\n",
       "      <td>0.000000</td>\n",
       "    </tr>\n",
       "    <tr>\n",
       "      <th>Road_traffic_density</th>\n",
       "      <td>0.000000</td>\n",
       "      <td>1.000000</td>\n",
       "      <td>2.000000</td>\n",
       "      <td>3.000000</td>\n",
       "      <td>0.000000</td>\n",
       "    </tr>\n",
       "    <tr>\n",
       "      <th>Vehicle_condition</th>\n",
       "      <td>2.000000</td>\n",
       "      <td>2.000000</td>\n",
       "      <td>0.000000</td>\n",
       "      <td>0.000000</td>\n",
       "      <td>1.000000</td>\n",
       "    </tr>\n",
       "    <tr>\n",
       "      <th>Type_of_order</th>\n",
       "      <td>3.000000</td>\n",
       "      <td>3.000000</td>\n",
       "      <td>1.000000</td>\n",
       "      <td>0.000000</td>\n",
       "      <td>3.000000</td>\n",
       "    </tr>\n",
       "    <tr>\n",
       "      <th>multiple_deliveries</th>\n",
       "      <td>0.000000</td>\n",
       "      <td>1.000000</td>\n",
       "      <td>1.000000</td>\n",
       "      <td>1.000000</td>\n",
       "      <td>1.000000</td>\n",
       "    </tr>\n",
       "    <tr>\n",
       "      <th>Festival</th>\n",
       "      <td>0.000000</td>\n",
       "      <td>0.000000</td>\n",
       "      <td>0.000000</td>\n",
       "      <td>0.000000</td>\n",
       "      <td>0.000000</td>\n",
       "    </tr>\n",
       "    <tr>\n",
       "      <th>City</th>\n",
       "      <td>1.000000</td>\n",
       "      <td>0.000000</td>\n",
       "      <td>1.000000</td>\n",
       "      <td>0.000000</td>\n",
       "      <td>0.000000</td>\n",
       "    </tr>\n",
       "    <tr>\n",
       "      <th>day</th>\n",
       "      <td>19.000000</td>\n",
       "      <td>25.000000</td>\n",
       "      <td>19.000000</td>\n",
       "      <td>4.000000</td>\n",
       "      <td>26.000000</td>\n",
       "    </tr>\n",
       "    <tr>\n",
       "      <th>month</th>\n",
       "      <td>3.000000</td>\n",
       "      <td>3.000000</td>\n",
       "      <td>3.000000</td>\n",
       "      <td>5.000000</td>\n",
       "      <td>3.000000</td>\n",
       "    </tr>\n",
       "    <tr>\n",
       "      <th>Time_Ordered_hour</th>\n",
       "      <td>11.000000</td>\n",
       "      <td>19.000000</td>\n",
       "      <td>8.000000</td>\n",
       "      <td>18.000000</td>\n",
       "      <td>13.000000</td>\n",
       "    </tr>\n",
       "    <tr>\n",
       "      <th>prep_time</th>\n",
       "      <td>15.000000</td>\n",
       "      <td>5.000000</td>\n",
       "      <td>15.000000</td>\n",
       "      <td>10.000000</td>\n",
       "      <td>15.000000</td>\n",
       "    </tr>\n",
       "    <tr>\n",
       "      <th>Distance</th>\n",
       "      <td>1.875583</td>\n",
       "      <td>12.513725</td>\n",
       "      <td>0.962705</td>\n",
       "      <td>4.830024</td>\n",
       "      <td>3.850266</td>\n",
       "    </tr>\n",
       "  </tbody>\n",
       "</table>\n",
       "</div>"
      ],
      "text/plain": [
       "                                   0             1             2  \\\n",
       "ID                       9359.000000  29445.000000  13612.000000   \n",
       "Delivery_person_ID        637.000000    232.000000    234.000000   \n",
       "Delivery_person_Age        37.000000     34.000000     23.000000   \n",
       "Delivery_person_Ratings     4.900000      4.500000      4.400000   \n",
       "Weatherconditions           4.000000      3.000000      2.000000   \n",
       "Road_traffic_density        0.000000      1.000000      2.000000   \n",
       "Vehicle_condition           2.000000      2.000000      0.000000   \n",
       "Type_of_order               3.000000      3.000000      1.000000   \n",
       "multiple_deliveries         0.000000      1.000000      1.000000   \n",
       "Festival                    0.000000      0.000000      0.000000   \n",
       "City                        1.000000      0.000000      1.000000   \n",
       "day                        19.000000     25.000000     19.000000   \n",
       "month                       3.000000      3.000000      3.000000   \n",
       "Time_Ordered_hour          11.000000     19.000000      8.000000   \n",
       "prep_time                  15.000000      5.000000     15.000000   \n",
       "Distance                    1.875583     12.513725      0.962705   \n",
       "\n",
       "                                    3             4  \n",
       "ID                       18849.000000  17051.000000  \n",
       "Delivery_person_ID         397.000000    333.000000  \n",
       "Delivery_person_Age         38.000000     32.000000  \n",
       "Delivery_person_Ratings      4.700000      4.600000  \n",
       "Weatherconditions            4.000000      0.000000  \n",
       "Road_traffic_density         3.000000      0.000000  \n",
       "Vehicle_condition            0.000000      1.000000  \n",
       "Type_of_order                0.000000      3.000000  \n",
       "multiple_deliveries          1.000000      1.000000  \n",
       "Festival                     0.000000      0.000000  \n",
       "City                         0.000000      0.000000  \n",
       "day                          4.000000     26.000000  \n",
       "month                        5.000000      3.000000  \n",
       "Time_Ordered_hour           18.000000     13.000000  \n",
       "prep_time                   10.000000     15.000000  \n",
       "Distance                     4.830024      3.850266  "
      ]
     },
     "execution_count": 84,
     "metadata": {},
     "output_type": "execute_result"
    }
   ],
   "source": [
    "X.head().T"
   ]
  },
  {
   "cell_type": "code",
   "execution_count": 85,
   "id": "a3bcef29",
   "metadata": {},
   "outputs": [
    {
     "data": {
      "text/plain": [
       "0    24.0\n",
       "1    33.0\n",
       "2    26.0\n",
       "3    21.0\n",
       "4    30.0\n",
       "Name: Time_taken(min), dtype: float64"
      ]
     },
     "execution_count": 85,
     "metadata": {},
     "output_type": "execute_result"
    }
   ],
   "source": [
    "y=df['Time_taken(min)']\n",
    "y.head()"
   ]
  },
  {
   "cell_type": "code",
   "execution_count": 86,
   "id": "0be72cf6",
   "metadata": {},
   "outputs": [],
   "source": [
    "#df['Delivery_person_Age']=df['Delivery_person_Age']/max(df['Delivery_person_Age'])\n",
    "#df['Delivery_person_Ratings']=df['Delivery_person_Ratings']/max(df['Delivery_person_Ratings'])\n",
    "#df['Distance']=df['Distance']/max(df['Distance'])\n",
    "#df['Time_Ordered_hour']=df['Time_Ordered_hour']/max(df['Time_Ordered_hour'])\n",
    "#df['Weatherconditions']=df['Weatherconditions']/max(df['Weatherconditions'])\n",
    "#df['Road_traffic_density']=df['Road_traffic_density']/max(df['Road_traffic_density'])\n",
    "#df['Vehicle_condition']=df['Vehicle_condition']/max(df['Vehicle_condition'])\n",
    "#df['Type_of_order']=df['Type_of_order']/max(df['Type_of_order'])\n",
    "#df['day']=df['day']/max(df['day'])\n",
    "#df['month']=df['month']/max(df['month'])\n",
    "#df['multiple_deliveries']=df['multiple_deliveries']/max(df['multiple_deliveries'])\n",
    "#df['prep_time']=df['prep_time']/max(df['prep_time'])\n",
    "#df['Festival']=df['Festival']/max(df['Festival'])\n",
    "#df['City']=df['City']/max(df['City'])"
   ]
  },
  {
   "cell_type": "code",
   "execution_count": 87,
   "id": "40536561",
   "metadata": {},
   "outputs": [],
   "source": [
    "from sklearn.model_selection import train_test_split"
   ]
  },
  {
   "cell_type": "code",
   "execution_count": 88,
   "id": "61e6d855",
   "metadata": {},
   "outputs": [],
   "source": [
    "X_train, X_test,y_train,y_test = train_test_split(X,y,test_size=0.15)"
   ]
  },
  {
   "cell_type": "code",
   "execution_count": 89,
   "id": "655475ea",
   "metadata": {},
   "outputs": [],
   "source": [
    "from sklearn.tree import DecisionTreeRegressor\n",
    "from sklearn.neighbors import KNeighborsRegressor\n",
    "from sklearn.ensemble import RandomForestRegressor\n",
    "from sklearn.linear_model import LinearRegression\n",
    "from sklearn import svm"
   ]
  },
  {
   "cell_type": "code",
   "execution_count": 90,
   "id": "8b905038",
   "metadata": {},
   "outputs": [],
   "source": [
    "DTR = DecisionTreeRegressor()\n",
    "KNN=KNeighborsRegressor(n_neighbors=10)\n",
    "RFR = RandomForestRegressor(n_estimators= 40,min_samples_split= 4,min_samples_leaf= 1)\n",
    "LR = LinearRegression()\n",
    "SVM_reg = svm.SVR()"
   ]
  },
  {
   "cell_type": "code",
   "execution_count": 91,
   "id": "bc1ec9fa",
   "metadata": {},
   "outputs": [],
   "source": [
    "Models = {\"Decision tree\" : DTR,\n",
    "          \"KNeighbors Regressor\" : KNN,\n",
    "          \"Random forest\" : RFR,\n",
    "          \"Linear Regression\" : LR,\n",
    "          \"Support Vector Regressor\" : SVM_reg}\n",
    "scores= { }"
   ]
  },
  {
   "cell_type": "code",
   "execution_count": 92,
   "id": "f8beb7c3",
   "metadata": {},
   "outputs": [],
   "source": [
    "for key, value in Models.items():    \n",
    "    model = value\n",
    "    model.fit(X_train, y_train)\n",
    "    scores[key] = model.score(X_test, y_test)"
   ]
  },
  {
   "cell_type": "code",
   "execution_count": 93,
   "id": "b9a3e5db",
   "metadata": {},
   "outputs": [
    {
     "data": {
      "text/html": [
       "<div>\n",
       "<style scoped>\n",
       "    .dataframe tbody tr th:only-of-type {\n",
       "        vertical-align: middle;\n",
       "    }\n",
       "\n",
       "    .dataframe tbody tr th {\n",
       "        vertical-align: top;\n",
       "    }\n",
       "\n",
       "    .dataframe thead th {\n",
       "        text-align: right;\n",
       "    }\n",
       "</style>\n",
       "<table border=\"1\" class=\"dataframe\">\n",
       "  <thead>\n",
       "    <tr style=\"text-align: right;\">\n",
       "      <th></th>\n",
       "      <th>Accuracy Score</th>\n",
       "    </tr>\n",
       "  </thead>\n",
       "  <tbody>\n",
       "    <tr>\n",
       "      <th>Random forest</th>\n",
       "      <td>0.781089</td>\n",
       "    </tr>\n",
       "    <tr>\n",
       "      <th>Decision tree</th>\n",
       "      <td>0.591284</td>\n",
       "    </tr>\n",
       "    <tr>\n",
       "      <th>Linear Regression</th>\n",
       "      <td>0.395766</td>\n",
       "    </tr>\n",
       "    <tr>\n",
       "      <th>Support Vector Regressor</th>\n",
       "      <td>-0.003299</td>\n",
       "    </tr>\n",
       "    <tr>\n",
       "      <th>KNeighbors Regressor</th>\n",
       "      <td>-0.083211</td>\n",
       "    </tr>\n",
       "  </tbody>\n",
       "</table>\n",
       "</div>"
      ],
      "text/plain": [
       "                          Accuracy Score\n",
       "Random forest                   0.781089\n",
       "Decision tree                   0.591284\n",
       "Linear Regression               0.395766\n",
       "Support Vector Regressor       -0.003299\n",
       "KNeighbors Regressor           -0.083211"
      ]
     },
     "execution_count": 93,
     "metadata": {},
     "output_type": "execute_result"
    }
   ],
   "source": [
    "scores_frame = pd.DataFrame(scores, index=[\"Accuracy Score\"]).T\n",
    "scores_frame.sort_values(by=[\"Accuracy Score\"], axis=0 ,ascending=False, inplace=True)\n",
    "scores_frame"
   ]
  },
  {
   "cell_type": "code",
   "execution_count": 94,
   "id": "039d68f1",
   "metadata": {},
   "outputs": [
    {
     "data": {
      "text/plain": [
       "array([1, 1, 1, 1, 1, 1, 1, 3, 1, 7, 6, 2, 4, 1, 5, 1])"
      ]
     },
     "execution_count": 94,
     "metadata": {},
     "output_type": "execute_result"
    }
   ],
   "source": [
    "from sklearn.feature_selection import RFE\n",
    "rfe=RFE(RFR, n_features_to_select=10,step=1)\n",
    "rfe=rfe.fit(X_train, y_train)\n",
    "rfe.ranking_"
   ]
  },
  {
   "cell_type": "code",
   "execution_count": null,
   "id": "aede78d9",
   "metadata": {},
   "outputs": [],
   "source": []
  }
 ],
 "metadata": {
  "kernelspec": {
   "display_name": "Python 3 (ipykernel)",
   "language": "python",
   "name": "python3"
  },
  "language_info": {
   "codemirror_mode": {
    "name": "ipython",
    "version": 3
   },
   "file_extension": ".py",
   "mimetype": "text/x-python",
   "name": "python",
   "nbconvert_exporter": "python",
   "pygments_lexer": "ipython3",
   "version": "3.9.7"
  }
 },
 "nbformat": 4,
 "nbformat_minor": 5
}
